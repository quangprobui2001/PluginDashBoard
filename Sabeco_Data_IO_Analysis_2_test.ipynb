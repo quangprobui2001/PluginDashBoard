{
  "cells": [
    {
      "cell_type": "markdown",
      "metadata": {
        "id": "2H3FoewtiOVb"
      },
      "source": [
        "# Import Libraries & Upload Files"
      ]
    },
    {
      "cell_type": "code",
      "execution_count": 1450,
      "metadata": {
        "colab": {
          "base_uri": "https://localhost:8080/"
        },
        "id": "MDBVQeqVGQMM",
        "outputId": "ef043741-1b06-4dc9-ca26-ab99d03e72c3"
      },
      "outputs": [],
      "source": [
        "# !pip install dash\n",
        "# !pip install dash_daq\n",
        "# !pip install dash_bootstrap_components\n",
        "# !pip install pyproj\n",
        "# !pip install dash_bootstrap_templates\n"
      ]
    },
    {
      "cell_type": "code",
      "execution_count": 1451,
      "metadata": {
        "id": "iVjQQ519GXwj"
      },
      "outputs": [],
      "source": [
        "import dash_daq as daq\n",
        "import dash_bootstrap_components as dbc\n",
        "import folium\n",
        "import json\n",
        "import math\n",
        "import pandas as pd\n",
        "import plotly.express as px\n",
        "import plotly.graph_objects as go\n",
        "import dash\n",
        "from folium.plugins import BeautifyIcon\n",
        "from dash import dcc, html, Input, Output, State\n",
        "# from google.colab import files\n",
        "from folium.map import Popup\n",
        "from branca.element import Template, MacroElement\n",
        "from dash_bootstrap_templates import ThemeChangerAIO\n"
      ]
    },
    {
      "cell_type": "code",
      "execution_count": 1452,
      "metadata": {
        "colab": {
          "base_uri": "https://localhost:8080/",
          "height": 73
        },
        "id": "B55AoT8lLydc",
        "outputId": "f0668342-3bef-4aa1-fcd4-bc4fe53b0fb1"
      },
      "outputs": [],
      "source": [
        "# input_uploaded = files.upload()\n",
        "# input_file = list(input_uploaded.keys())[0]  # Dynamically get the file name\n",
        "# input_data = json.loads(input_uploaded[input_file].decode(\"utf-8\"))\n",
        "with open('input 200310.json', encoding='utf-8') as f:\n",
        "    input_data = json.load(f)\n"
      ]
    },
    {
      "cell_type": "code",
      "execution_count": 1453,
      "metadata": {
        "colab": {
          "base_uri": "https://localhost:8080/",
          "height": 73
        },
        "id": "RYuvQCTrMM-z",
        "outputId": "1f2dc99e-0041-4bc1-afbb-a391d154592a",
        "scrolled": true
      },
      "outputs": [],
      "source": [
        "# output_uploaded = files.upload()\n",
        "# output_file = list(output_uploaded.keys())[0]  # Dynamically get the file name\n",
        "# output_data = json.loads(output_uploaded[output_file].decode(\"utf-8\"))\n",
        "with open('output_input 200310.json', encoding='utf-8') as f:\n",
        "    output_data = json.load(f)"
      ]
    },
    {
      "cell_type": "markdown",
      "metadata": {
        "id": "QbWq204nmDL4"
      },
      "source": [
        "# Base Plugin"
      ]
    },
    {
      "cell_type": "markdown",
      "metadata": {
        "id": "1zroaTjBmDr-"
      },
      "source": [
        "## Base Model"
      ]
    },
    {
      "cell_type": "markdown",
      "metadata": {
        "id": "iVIY0qARRJWS"
      },
      "source": [
        "### Abstract Model Class"
      ]
    },
    {
      "cell_type": "code",
      "execution_count": null,
      "metadata": {
        "id": "73aLfYxhRJu8"
      },
      "outputs": [],
      "source": []
    },
    {
      "cell_type": "markdown",
      "metadata": {
        "id": "ZKl0zu3SRKAu"
      },
      "source": [
        "### Common Model Class"
      ]
    },
    {
      "cell_type": "code",
      "execution_count": 1454,
      "metadata": {
        "id": "nxHMRjCbmq16"
      },
      "outputs": [],
      "source": [
        "# Function to add offset to lat/lng if there are overlapping locations\n",
        "def add_offset(lat, lng, index, base_offset=0.001):\n",
        "    \"\"\"\n",
        "    Modify lat, lng to prevent duplication customer/ hub by adding index * base_offset.\n",
        "    If there are 3 duplicated points, index = 0, 1, 2.\n",
        "    Output:\n",
        "        New lat & lng of the current point\n",
        "\n",
        "    Example:\n",
        "        >>> add_offset(10.0, 20.0, 2)\n",
        "        (10.002, 20.002)\n",
        "    \"\"\"\n",
        "    offset = base_offset * index\n",
        "    return lat + offset, lng + offset"
      ]
    },
    {
      "cell_type": "code",
      "execution_count": 1455,
      "metadata": {
        "id": "MFIjMam0jXx6"
      },
      "outputs": [],
      "source": [
        "def list_of_dicts_to_plain_dict(list_dict, keyword, valuename):\n",
        "    \"\"\"\n",
        "    Transform list of dict into plain dict via keyword and valuename\n",
        "    Input: [{\n",
        "            \"factoryAddress\": \"165\",\n",
        "            \"pdAdress\": \"PD-165\",\n",
        "            \"match\": 1\n",
        "            },\n",
        "            {\n",
        "            \"factoryAddress\": \"168\",\n",
        "            \"pdAdress\": \"PD-168\",\n",
        "            \"match\": 1\n",
        "            }]\n",
        "    Output: {\"165\": \"PD-165\", \"168\": \"PD-168\"]}\n",
        "    \"\"\"\n",
        "\n",
        "    return {\n",
        "        element[keyword]: element[valuename] for element in list_dict\n",
        "    }"
      ]
    },
    {
      "cell_type": "code",
      "execution_count": 1456,
      "metadata": {
        "id": "YEiLQM24gKf9"
      },
      "outputs": [],
      "source": [
        "def list_of_dicts_to_dict_of_dicts(list_dict, keyword):\n",
        "    \"\"\"\n",
        "    Transform list of dict into dict of dict via value of a key.\n",
        "    Input: [{ \"locationCode\":\"ABC\",\n",
        "                \"lat\": 10.2,\n",
        "                \"lng\": 105.1}]\n",
        "    Output: { \"ABC\": {\"lat\": 10.2,\n",
        "                    \"lng\": 105.1}}\n",
        "    \"\"\"\n",
        "\n",
        "    return {\n",
        "        element[keyword]: {\n",
        "            key: value for key, value in element.items() if key != keyword\n",
        "        } for element in list_dict\n",
        "    }"
      ]
    },
    {
      "cell_type": "code",
      "execution_count": 1457,
      "metadata": {
        "id": "b2KHG7sDeJ3N"
      },
      "outputs": [],
      "source": [
        "def list_of_dicts_to_dict_of_list(list_dict, keyword, valuename):\n",
        "    \"\"\"\n",
        "    Transform list of dict into dict of list via via keyword and valuename\n",
        "    Input: [{\n",
        "            \"depotAddress\": \"D165\",\n",
        "            \"pdAdress\": \"PD-165\",\n",
        "            \"match\": 1\n",
        "            },\n",
        "            {\n",
        "            \"depotAddress\": \"D165.2\",\n",
        "            \"pdAdress\": \"PD-165\",\n",
        "            \"match\": 1\n",
        "            }]\n",
        "    Output: {\"PD-165\": [\"D165\", \"D165.2\"]}\n",
        "    \"\"\"\n",
        "\n",
        "    return {\n",
        "        component[keyword]: [\n",
        "            element[valuename] for element in list_dict if component[keyword] == element[keyword]\n",
        "        ] for component in list_dict\n",
        "    }"
      ]
    },
    {
      "cell_type": "code",
      "execution_count": 1458,
      "metadata": {
        "id": "SHj0K_xygfQ2"
      },
      "outputs": [],
      "source": [
        "def reverse_plain_dict_to_dict_of_list(input_dict):\n",
        "    reverse_dict = {}\n",
        "    for key, value in input_dict.items():\n",
        "        reverse_dict.setdefault(value, []).append(key)\n",
        "    return reverse_dict"
      ]
    },
    {
      "cell_type": "code",
      "execution_count": 1459,
      "metadata": {
        "id": "A1G2GSjKWWUo"
      },
      "outputs": [],
      "source": [
        "def calculate_IBtranspCost(price_data, depot_code):\n",
        "    total_price = 0\n",
        "    for transp_cost in price_data[\"IBtranspCost\"]:\n",
        "        if transp_cost[\"destCode\"] == depot_code:\n",
        "            total_price += transp_cost[\"price\"]\n",
        "    return total_price\n"
      ]
    },
    {
      "cell_type": "code",
      "execution_count": 1460,
      "metadata": {
        "id": "Idi4BVbKl5aL"
      },
      "outputs": [],
      "source": [
        "def calculate_OBtranspCost(price_data, depot_code):\n",
        "    total_price = 0\n",
        "    for transp_cost in price_data[\"OBtranspCost\"]:\n",
        "        if transp_cost[\"srcCode\"] == depot_code:\n",
        "            total_price += transp_cost[\"price\"]\n",
        "    return total_price\n"
      ]
    },
    {
      "cell_type": "code",
      "execution_count": 1461,
      "metadata": {
        "id": "JGqpsMIY6q6C"
      },
      "outputs": [],
      "source": [
        "# Hàm để tìm thông tin về sản phẩm và dung lượng từ location_from đến location_to trong dữ liệu depots\n",
        "def find_product_info(location_from, location_to, depots_data):\n",
        "    product_info = []\n",
        "\n",
        "    # Lặp qua mỗi depot trong dữ liệu depots\n",
        "    for depot in depots_data:\n",
        "        depot_code = depot[\"depotCode\"]\n",
        "\n",
        "        # Nếu depot_code trùng với location_from hoặc location_to\n",
        "        if depot_code == location_from or depot_code == location_to:\n",
        "            # Lặp qua mỗi khách hàng của depot\n",
        "            for customer in depot[\"customers\"]:\n",
        "                customer_code = customer[\"customerCode\"]\n",
        "\n",
        "                # Nếu customer_code trùng với location_from hoặc location_to\n",
        "                if customer_code == location_from or customer_code == location_to:\n",
        "                    # Lặp qua mỗi sản phẩm của khách hàng\n",
        "                    for product in customer[\"products\"]:\n",
        "                        product_info.append({\n",
        "                            \"productCode\": product[\"productCode\"],\n",
        "                            \"capacity\": product[\"capacity\"]\n",
        "                        })\n",
        "\n",
        "    return product_info"
      ]
    },
    {
      "cell_type": "code",
      "execution_count": 1462,
      "metadata": {
        "id": "ytTtJcbbt9X5"
      },
      "outputs": [],
      "source": [
        "pd_in_factory = list_of_dicts_to_plain_dict(input_data[\"matrixConfig\"][\"mapPhysicDepotWithFactory\"],\n",
        "                                                    \"typeOfFactoryByAdress\",\n",
        "                                                    \"typeOfPDByAdress\")"
      ]
    },
    {
      "cell_type": "code",
      "execution_count": 1463,
      "metadata": {
        "colab": {
          "base_uri": "https://localhost:8080/"
        },
        "id": "VCZiAvXJuKvl",
        "outputId": "d7394342-b215-450d-a55d-92eac5613f76"
      },
      "outputs": [
        {
          "data": {
            "text/plain": [
              "{'153': 'PD-153',\n",
              " '165': 'PD-165',\n",
              " '146': 'PD-146',\n",
              " '061': 'PD-061',\n",
              " 'CC': 'PD-CC',\n",
              " '163': 'PD-163',\n",
              " '166': 'PD-166',\n",
              " '145': 'PD-145',\n",
              " '160': 'PD-160',\n",
              " '150': 'PD-150',\n",
              " '162': 'PD-162'}"
            ]
          },
          "execution_count": 1463,
          "metadata": {},
          "output_type": "execute_result"
        }
      ],
      "source": [
        "pd_in_factory"
      ]
    },
    {
      "cell_type": "code",
      "execution_count": null,
      "metadata": {
        "id": "3Co3CV8FuXXc"
      },
      "outputs": [],
      "source": []
    },
    {
      "cell_type": "code",
      "execution_count": null,
      "metadata": {
        "id": "t7_-YUveug-r"
      },
      "outputs": [],
      "source": []
    },
    {
      "cell_type": "markdown",
      "metadata": {
        "id": "_gFM-kx7mHuA"
      },
      "source": [
        "## Base View"
      ]
    },
    {
      "cell_type": "markdown",
      "metadata": {
        "id": "BA1xzhwCQnqv"
      },
      "source": [
        "### Abstract View Class"
      ]
    },
    {
      "cell_type": "code",
      "execution_count": null,
      "metadata": {
        "id": "yxOGH4KLQn_J"
      },
      "outputs": [],
      "source": []
    },
    {
      "cell_type": "markdown",
      "metadata": {
        "id": "D7olSR4lQq0F"
      },
      "source": [
        "### Common View Class"
      ]
    },
    {
      "cell_type": "code",
      "execution_count": 1464,
      "metadata": {
        "id": "WlT7gh4bmIAe"
      },
      "outputs": [],
      "source": [
        "def add_factory_markers():\n",
        "    return\n",
        "\n",
        "def add_depot_markers():\n",
        "    return\n",
        "\n",
        "def add_customer_markers():\n",
        "    return"
      ]
    },
    {
      "cell_type": "markdown",
      "metadata": {
        "id": "TSpHO7TBmIWG"
      },
      "source": [
        "## Base Controller"
      ]
    },
    {
      "cell_type": "markdown",
      "metadata": {
        "id": "sUVUNdNdRpRc"
      },
      "source": [
        "### Abstract Controller Class"
      ]
    },
    {
      "cell_type": "code",
      "execution_count": null,
      "metadata": {
        "id": "jtNkzs1QmIzu"
      },
      "outputs": [],
      "source": []
    },
    {
      "cell_type": "markdown",
      "metadata": {
        "id": "5H13ae6JRpzG"
      },
      "source": [
        "### Common Controller Class"
      ]
    },
    {
      "cell_type": "code",
      "execution_count": null,
      "metadata": {
        "id": "mS5IPH0nRqFm"
      },
      "outputs": [],
      "source": []
    },
    {
      "cell_type": "code",
      "execution_count": 1465,
      "metadata": {
        "id": "W-2jtjtf71YZ"
      },
      "outputs": [],
      "source": [
        "# HÀM CHÍNH Ở CHỖ CALLBACK Á\n",
        "# VỚI LẠI, UPDATE CHO A CÁCH TÍNH CÁC COST, A K BIẾT CÁCH TÍNH CÁC COST DO ĐÓ TẠM THỜI ĐỂ GIÁ TRỊ MẶC ĐỊNH = 0. HUYỀN UPDATE CHO A ĐỂ A UPDATE THÔNG TIN NÀY TRONG TOOLTIP!"
      ]
    },
    {
      "cell_type": "markdown",
      "metadata": {
        "id": "sNPbGe2biY6E"
      },
      "source": [
        "# Folium Assignment Map Plugin"
      ]
    },
    {
      "cell_type": "markdown",
      "metadata": {
        "id": "CJgBph-LO5B7"
      },
      "source": [
        "## Plugin Model\n",
        "Process Data"
      ]
    },
    {
      "cell_type": "code",
      "execution_count": 1466,
      "metadata": {
        "id": "K8cBfkA-ZuMW"
      },
      "outputs": [],
      "source": [
        "def get_center_of_folium_map(locations_data):\n",
        "    return None if not locations_data else {\n",
        "        \"lat\": sum(loc['lat'] for loc in locations_data) / len(locations_data),\n",
        "        \"lng\": sum(loc['lng'] for loc in locations_data) / len(locations_data)\n",
        "    }"
      ]
    },
    {
      "cell_type": "code",
      "execution_count": 1467,
      "metadata": {
        "id": "dZA2zSxasoVt"
      },
      "outputs": [],
      "source": [
        "#11/4\n",
        "def get_depot_to_pd_mapping(input_data):\n",
        "\n",
        "    tco_to_physical_mapping = {}\n",
        "\n",
        "    if \"matrixConfig\" in input_data and \"mapPhysicDepotWithDepot\" in input_data[\"matrixConfig\"] and \\\n",
        "            \"depots\" in input_data and \"physicDepots\" in input_data:\n",
        "\n",
        "        depot_to_pd_dict = list_of_dicts_to_plain_dict(input_data[\"matrixConfig\"][\"mapPhysicDepotWithDepot\"],\n",
        "                                                       \"typeOfDepotByAdress\", \"typeOfPDByAdress\")\n",
        "\n",
        "        for tco_depot in input_data[\"depots\"]:\n",
        "            tco_address = tco_depot[\"depotDetails\"][\"dType\"][\"typeOfDepotByAdress\"]\n",
        "            for pd_depot in input_data[\"physicDepots\"]:\n",
        "                pd_address = pd_depot[\"physicDepotDetails\"][\"PDType\"][\"typeOfPDByAdress\"]\n",
        "                if depot_to_pd_dict.get(tco_address) == pd_address:\n",
        "                    tco_to_physical_mapping[tco_depot[\"depotCode\"]] = pd_depot[\"depotPhysicCode\"]\n",
        "                    break  # Break the inner loop once a match is found\n",
        "\n",
        "    return tco_to_physical_mapping"
      ]
    },
    {
      "cell_type": "code",
      "execution_count": 1468,
      "metadata": {
        "id": "vlo07Lk8RUMv"
      },
      "outputs": [],
      "source": [
        "def summarize_factory_depot_customer_mapping(tco_to_physical_mapping, output_data):\n",
        "    # Initialize dictionaries to store the mappings\n",
        "    factory_to_phy_depot = {}\n",
        "    factory_to_tco_depot = {}\n",
        "    phy_depot_to_customer = {}\n",
        "    tco_depot_to_customer = {}\n",
        "\n",
        "    if isinstance(output_data, list):\n",
        "        # Mapping depots to factories and customers\n",
        "        for depot in output_data:\n",
        "            if 'depotCode' in depot and 'customers' in depot and 'factories' in depot:\n",
        "                depot_code = depot['depotCode']\n",
        "                pd_code = tco_to_physical_mapping.get(depot_code)\n",
        "                if pd_code is not None:\n",
        "                    # Mapping depot to customers\n",
        "                    customers = [customer.get('customerCode') for customer in depot['customers'] if 'customerCode' in customer]\n",
        "                    tco_depot_to_customer[depot_code] = customers\n",
        "                    phy_depot_to_customer.setdefault(pd_code, []).extend(customers)\n",
        "                    # Mapping factories to depot\n",
        "                    for factory in depot['factories']:\n",
        "                        if 'factoryCode' in factory:\n",
        "                            factory_code = factory['factoryCode']\n",
        "                            # Append the depot code to the respective factory\n",
        "                            factory_to_tco_depot.setdefault(factory_code, []).append(depot_code)\n",
        "                            factory_to_phy_depot.setdefault(factory_code, []).append(pd_code)\n",
        "                            factory_to_phy_depot[factory_code] = list(set(factory_to_phy_depot[factory_code]))\n",
        "\n",
        "    return {\n",
        "        'Factory_to_Phy_Depot': factory_to_phy_depot,\n",
        "        'Factory_to_TCO_Depot': factory_to_tco_depot,\n",
        "        'Phy_Depot_to_Customer': phy_depot_to_customer,\n",
        "        'TCO_Depot_to_Customer': tco_depot_to_customer\n",
        "    }\n"
      ]
    },
    {
      "cell_type": "code",
      "execution_count": 1469,
      "metadata": {
        "id": "ucZMV3LqaWtU"
      },
      "outputs": [],
      "source": [
        "tco_to_physical_mapping = get_depot_to_pd_mapping(input_data)"
      ]
    },
    {
      "cell_type": "code",
      "execution_count": 1470,
      "metadata": {
        "id": "xN0Z1NPoaIjm"
      },
      "outputs": [],
      "source": [
        "a = summarize_factory_depot_customer_mapping(tco_to_physical_mapping, output_data)"
      ]
    },
    {
      "cell_type": "code",
      "execution_count": 1471,
      "metadata": {
        "colab": {
          "base_uri": "https://localhost:8080/"
        },
        "id": "Ttm0Sf-raMNU",
        "outputId": "a09f81c1-0e1a-4ff4-8d7e-bc01c080045b"
      },
      "outputs": [
        {
          "data": {
            "text/plain": [
              "{}"
            ]
          },
          "execution_count": 1471,
          "metadata": {},
          "output_type": "execute_result"
        }
      ],
      "source": [
        "a[\"Factory_to_TCO_Depot\"]"
      ]
    },
    {
      "cell_type": "code",
      "execution_count": 1472,
      "metadata": {
        "id": "wccLRQp_agcm"
      },
      "outputs": [],
      "source": [
        "def get_customer_product_capacity(output_data):\n",
        "    customer_product_capacity = {}\n",
        "\n",
        "    for depot in output_data[\"depots\"]:\n",
        "        for customer in depot[\"customers\"]:\n",
        "            customer_code = customer[\"customerCode\"]\n",
        "\n",
        "            # Initialize the dictionary for this customer if it does not exist\n",
        "            if customer_code not in customer_product_capacity:\n",
        "                customer_product_capacity[customer_code] = {}\n",
        "\n",
        "            for product in customer[\"products\"]:\n",
        "                product_code = product[\"productCode\"]\n",
        "                capacity = product[\"capacity\"]\n",
        "\n",
        "                # Sum up the capacities for each product code\n",
        "                if product_code in customer_product_capacity[customer_code]:\n",
        "                    customer_product_capacity[customer_code][product_code] += capacity\n",
        "                else:\n",
        "                    customer_product_capacity[customer_code][product_code] = capacity\n",
        "\n",
        "    return customer_product_capacity"
      ]
    },
    {
      "cell_type": "code",
      "execution_count": 1473,
      "metadata": {
        "id": "Gbfyr0ClI5cC"
      },
      "outputs": [],
      "source": [
        "def create_assignment_map_data(input_data, output_data, mapping_data, lat_lng_dict):\n",
        "    assignment_map_data = {\n",
        "        \"factories\": {},\n",
        "        \"phys_depots\": {},\n",
        "        \"customers\": {},\n",
        "        \"mapping_lines\": []\n",
        "    }\n",
        "    if \"matrixConfig\" in input_data and \"mapPhysicDepotWithFactory\" in input_data[\"matrixConfig\"] \\\n",
        "            and \"factories\" in input_data and \"physicDepots\" in input_data \\\n",
        "            and \"customers\" in input_data:\n",
        "\n",
        "        location_offsets = {}\n",
        "\n",
        "        pd_in_factory = list_of_dicts_to_plain_dict(input_data[\"matrixConfig\"][\"mapPhysicDepotWithFactory\"],\n",
        "                                                    \"typeOfFactoryByAdress\",\n",
        "                                                    \"typeOfPDByAdress\")\n",
        "\n",
        "        depot_to_pd_mapping = get_depot_to_pd_mapping(input_data)\n",
        "\n",
        "        pd_to_depot_mapping = reverse_plain_dict_to_dict_of_list(depot_to_pd_mapping)\n",
        "\n",
        "        cus_prod_capacity = get_customer_product_capacity(output_data)\n",
        "\n",
        "        factory_to_tco_depot_map = mapping_data.get('Factory_to_TCO_Depot', {})\n",
        "\n",
        "        for factory in input_data[\"factories\"]:\n",
        "            if 'factoryCode' in factory and factory['factoryCode'] in lat_lng_dict:\n",
        "                factory_code = factory[\"factoryCode\"]\n",
        "\n",
        "                lat = lat_lng_dict[factory_code][\"lat\"]\n",
        "                lng = lat_lng_dict[factory_code][\"lng\"]\n",
        "                key = (lat, lng)\n",
        "\n",
        "                location_offsets[key] = location_offsets.get(key, 0) + 1\n",
        "                offset_index = location_offsets[key] - 1\n",
        "\n",
        "                offset_lat, offset_lng = add_offset(lat, lng, offset_index) if offset_index > 0 else (lat, lng)\n",
        "                lat_lng_dict[factory_code][\"offset_lat\"] = offset_lat\n",
        "                lat_lng_dict[factory_code][\"offset_lng\"] = offset_lng\n",
        "\n",
        "                tco_depots = factory_to_tco_depot_map.get(factory_code, [])\n",
        "\n",
        "                # Tạo dictionary chứa thông tin các TCO depot\n",
        "                tcos_info = {}\n",
        "                for tco_depot_code in tco_depots:\n",
        "                    tco_depot_info = next((depot for depot in input_data[\"depots\"] if depot[\"depotCode\"] == tco_depot_code), None)\n",
        "\n",
        "                    if tco_depot_info:\n",
        "                        handling_out_cost = tco_depot_info.get(\"handlingOutCost\", 0)\n",
        "                        handling_in_cost = tco_depot_info.get(\"handlingInCost\", 0)\n",
        "                        ib_transp_cost = calculate_IBtranspCost(input_data[\"priceByLevelService\"], tco_depot_code)\n",
        "                        ob_transp_cost = calculate_OBtranspCost(input_data[\"priceByLevelService\"], tco_depot_code)\n",
        "\n",
        "                        tcos_info[tco_depot_code] = {\n",
        "                            \"handlingInCost\": handling_in_cost,\n",
        "                            \"handlingOutCost\": handling_out_cost,\n",
        "                            \"IBtranspCost\": ib_transp_cost,\n",
        "                            \"OBtranspCost\": ob_transp_cost\n",
        "                        }\n",
        "\n",
        "                assignment_map_data[\"factories\"][factory_code] = {\n",
        "                    \"original_coord\": {\n",
        "                        \"lat\": lat_lng_dict[factory_code][\"lat\"],\n",
        "                        \"lng\": lat_lng_dict[factory_code][\"lng\"]\n",
        "                    },\n",
        "                    \"offset_coord\": {\n",
        "                        \"lat\": offset_lat,\n",
        "                        \"lng\": offset_lng\n",
        "                    },\n",
        "                    \"factory_penalty_cost\": 0,\n",
        "                    \"IB_cost\": 0,\n",
        "                    \"min_supply\": sum([prod[\"minVolume\"] for prod in factory[\"products\"]]),\n",
        "                    \"max_supply\": sum([prod[\"maxVolume\"] for prod in factory[\"products\"]]),\n",
        "                    \"phys_depot_within\": pd_in_factory.get(factory_code, \"Nothing\"),\n",
        "                    \"tcos_info\": tcos_info  # Sử dụng dictionary chứa thông tin của TCO depots\n",
        "                }\n",
        "\n",
        "                # Trả lại tất cả các TCO depot tương ứng với factory code\n",
        "                factory_to_tco_depot_map[factory_code] = tco_depots\n",
        "\n",
        "\n",
        "        for pd in input_data[\"physicDepots\"]:\n",
        "            if 'depotPhysicCode' in pd and pd['depotPhysicCode'] in pd_to_depot_mapping:\n",
        "                pd_code = pd[\"depotPhysicCode\"]\n",
        "\n",
        "                first_depot = pd_to_depot_mapping[pd_code][0]\n",
        "\n",
        "                lat = lat_lng_dict[first_depot][\"lat\"]\n",
        "                lng = lat_lng_dict[first_depot][\"lng\"]\n",
        "                key = (lat, lng)\n",
        "\n",
        "                location_offsets[key] = location_offsets.get(key, 0) + 1\n",
        "                offset_index = location_offsets[key] - 1\n",
        "\n",
        "                offset_lat, offset_lng = add_offset(lat, lng, offset_index) if offset_index > 0 else (lat, lng)\n",
        "                lat_lng_dict[pd_code] = {\n",
        "                    \"lat\": lat,\n",
        "                    \"lng\": lng,\n",
        "                    \"offset_lat\": offset_lat,\n",
        "                    \"offset_lng\": offset_lng\n",
        "                }\n",
        "\n",
        "                # Find corresponding TCO depot and its handling costs\n",
        "                tco_depot_info = None\n",
        "                for tco_depot in input_data[\"depots\"]:\n",
        "                    if tco_depot[\"depotCode\"] == first_depot:\n",
        "                        tco_depot_info = tco_depot\n",
        "                        break\n",
        "\n",
        "                if tco_depot_info:\n",
        "                    handling_out_cost = tco_depot_info.get(\"handlingOutCost\", 0)\n",
        "                    handling_in_cost = tco_depot_info.get(\"handlingInCost\", 0)\n",
        "                else:\n",
        "                    handling_out_cost = 0\n",
        "                    handling_in_cost = 0\n",
        "\n",
        "                # Tính toán chi phí vận chuyển từ nhà máy đến kho\n",
        "                ib_transp_cost = calculate_IBtranspCost(input_data[\"priceByLevelService\"], first_depot)\n",
        "\n",
        "                # Tính toán chi phí vận chuyển từ kho đến khách hàng\n",
        "                ob_transp_cost = calculate_OBtranspCost(input_data[\"priceByLevelService\"], first_depot)\n",
        "\n",
        "                assignment_map_data[\"phys_depots\"][pd_code] = {\n",
        "                    \"original_coord\": {\n",
        "                        \"lat\": lat,\n",
        "                        \"lng\": lng\n",
        "                    },\n",
        "                    \"offset_coord\": {\n",
        "                        \"lat\": offset_lat,\n",
        "                        \"lng\": offset_lng\n",
        "                    },\n",
        "                    \"tcos_info\": {\n",
        "                        \"TCO_depot_code\": first_depot,\n",
        "                        \"handlingOutCost\": handling_out_cost,\n",
        "                        \"handlingInCost\": handling_in_cost,\n",
        "                        \"IBtranspCost\": ib_transp_cost,\n",
        "                        \"OBtranspCost\" : ob_transp_cost\n",
        "                    }\n",
        "                }\n",
        "\n",
        "        for customer in input_data[\"customers\"]:\n",
        "            if 'customerCode' in customer and customer['customerCode'] in lat_lng_dict:\n",
        "                cus_code = customer[\"customerCode\"]\n",
        "                cus_capacity = cus_prod_capacity.get(cus_code, {})\n",
        "\n",
        "                lat = lat_lng_dict[cus_code][\"lat\"]\n",
        "                lng = lat_lng_dict[cus_code][\"lng\"]\n",
        "                key = (lat, lng)\n",
        "\n",
        "                location_offsets[key] = location_offsets.get(key, 0) + 1\n",
        "                offset_index = location_offsets[key] - 1\n",
        "\n",
        "                offset_lat, offset_lng = add_offset(lat, lng, offset_index) if offset_index > 0 else (lat, lng)\n",
        "                lat_lng_dict[cus_code][\"offset_lat\"] = offset_lat\n",
        "                lat_lng_dict[cus_code][\"offset_lng\"] = offset_lng\n",
        "\n",
        "                assignment_map_data[\"customers\"][cus_code] = {\n",
        "                    \"original_coord\": {\n",
        "                        \"lat\": lat_lng_dict[cus_code][\"lat\"],\n",
        "                        \"lng\": lat_lng_dict[cus_code][\"lng\"]\n",
        "                    },\n",
        "                    \"offset_coord\": {\n",
        "                        \"lat\": offset_lat,\n",
        "                        \"lng\": offset_lng\n",
        "                    },\n",
        "                    \"product_info\": [\n",
        "                        {\n",
        "                            \"product_code\": product[\"productCode\"],\n",
        "                            \"capacity\": cus_capacity.get(product[\"productCode\"], 0),\n",
        "                            \"demand\": product.get(\"meanDemand\", 0)\n",
        "                        } for product in customer[\"products\"] if 'productCode' in product\n",
        "                    ],\n",
        "                    \"customer_penalty_cost\": 0,\n",
        "                    \"OB_cost\": 0,\n",
        "                }\n",
        "\n",
        "\n",
        "    for factory in mapping_data[\"Factory_to_Phy_Depot\"].keys():\n",
        "        for phys_depot in mapping_data[\"Factory_to_Phy_Depot\"][factory]:\n",
        "            if factory in lat_lng_dict and phys_depot in lat_lng_dict:\n",
        "                map_line = {\n",
        "                    \"type\": \"factory_to_depot\",\n",
        "                    \"start_location\": factory,\n",
        "                    \"end_location\": phys_depot,\n",
        "                    \"start_coordinate\": (lat_lng_dict[factory][\"offset_lat\"], lat_lng_dict[factory][\"offset_lng\"]),\n",
        "                    \"end_coordinate\": (lat_lng_dict[phys_depot][\"offset_lat\"], lat_lng_dict[phys_depot][\"offset_lng\"]),\n",
        "                    \"product_info\": []\n",
        "                }\n",
        "                assignment_map_data[\"mapping_lines\"].append(map_line)\n",
        "\n",
        "                map_line = {\n",
        "                    \"type\": \"depot_to_factory\",\n",
        "                    \"start_location\": phys_depot,\n",
        "                    \"end_location\": factory,\n",
        "                    \"start_coordinate\": (lat_lng_dict[phys_depot][\"offset_lat\"], lat_lng_dict[phys_depot][\"offset_lng\"]),\n",
        "                    \"end_coordinate\": (lat_lng_dict[factory][\"offset_lat\"], lat_lng_dict[factory][\"offset_lng\"]),\n",
        "                    \"product_info\": []\n",
        "                }\n",
        "                assignment_map_data[\"mapping_lines\"].append(map_line)\n",
        "\n",
        "    for phys_depot in mapping_data[\"Phy_Depot_to_Customer\"]:\n",
        "        for cus in mapping_data[\"Phy_Depot_to_Customer\"][phys_depot]:\n",
        "            if phys_depot in lat_lng_dict and cus in lat_lng_dict:\n",
        "                map_line = {\n",
        "                    \"type\": \"depot_to_customer\",\n",
        "                    \"start_location\": phys_depot,\n",
        "                    \"end_location\": cus,\n",
        "                    \"start_coordinate\": (lat_lng_dict[phys_depot][\"offset_lat\"], lat_lng_dict[phys_depot][\"offset_lng\"]),\n",
        "                    \"end_coordinate\": (lat_lng_dict[cus][\"offset_lat\"], lat_lng_dict[cus][\"offset_lng\"]),\n",
        "                    \"product_info\": []\n",
        "                }\n",
        "                assignment_map_data[\"mapping_lines\"].append(map_line)\n",
        "\n",
        "                map_line = {\n",
        "                    \"type\": \"customer_to_depot\",\n",
        "                    \"start_location\": cus,\n",
        "                    \"end_location\": phys_depot,\n",
        "                    \"start_coordinate\": (lat_lng_dict[cus][\"offset_lat\"], lat_lng_dict[cus][\"offset_lng\"]),\n",
        "                    \"end_coordinate\": (lat_lng_dict[phys_depot][\"offset_lat\"], lat_lng_dict[phys_depot][\"offset_lng\"]),\n",
        "                    \"product_info\": []\n",
        "                }\n",
        "                assignment_map_data[\"mapping_lines\"].append(map_line)\n",
        "\n",
        "    # Loop through each line in assignment_map_data\n",
        "    for map_line in assignment_map_data[\"mapping_lines\"]:\n",
        "        start_location = map_line[\"start_location\"]\n",
        "        end_location = map_line[\"end_location\"]\n",
        "        product_info = []  # Initialize list to store product information\n",
        "  \n",
        "        # Determine the type of line and process accordingly\n",
        "        if map_line[\"type\"] == \"depot_to_customer\":\n",
        "          \n",
        "            for customer in output_data[\"depots\"]:\n",
        "                if customer[\"depotCode\"] == start_location:\n",
        "\n",
        "                    for customers in customer[\"customers\"]:\n",
        "                        for product in customers[\"products\"]:\n",
        "                            product_info.append({\n",
        "                                \"product_code\": product[\"productCode\"],\n",
        "                                \"capacity\": product[\"capacity\"],  # Set capacity to 0 for depot to customer lines\n",
        "                            })\n",
        "                        break\n",
        "        elif map_line[\"type\"] == \"customer_to_depot\":\n",
        "\n",
        "            for customer in output_data[\"depots\"]:\n",
        "                if customer[\"depotCode\"] == end_location:\n",
        "\n",
        "                    for customers in customer[\"customers\"]:\n",
        "                        for product in customers[\"products\"]:\n",
        "                            product_info.append({\n",
        "                                \"product_code\": product[\"productCode\"],\n",
        "                                \"capacity\": product[\"capacity\"],  # Set capacity to 0 for depot to customer lines\n",
        "                            })\n",
        "                        break\n",
        "        elif map_line[\"type\"] == \"factory_to_depot\":\n",
        "\n",
        "            for depot in output_data[\"depots\"]:\n",
        "                if depot[\"depotCode\"] == end_location:\n",
        "\n",
        "                    for factory in depot[\"factories\"]:\n",
        "                        for product in factory[\"products\"]:\n",
        "                            product_info.append({\n",
        "                                \"product_code\": product[\"productCode\"],\n",
        "                                \"capacity\": product[\"capacity\"],  # Set capacity to 0 for depot to customer lines\n",
        "                            })\n",
        "                        break\n",
        "        elif map_line[\"type\"] == \"depot_to_factory\":\n",
        "\n",
        "            for depot in output_data[\"depots\"]:\n",
        "                if depot[\"depotCode\"] == start_location:\n",
        "    \n",
        "                    for factory in depot[\"factories\"]:\n",
        "                        for product in factory[\"products\"]:\n",
        "                            product_info.append({\n",
        "                                \"product_code\": product[\"productCode\"],\n",
        "                                \"capacity\": product[\"capacity\"],  # Set capacity to 0 for depot to customer lines\n",
        "                            })\n",
        "                        break\n",
        "        # Assign product information to the current line\n",
        "        map_line[\"product_info\"] = product_info\n",
        "\n",
        "\n",
        "    return assignment_map_data\n",
        "\n"
      ]
    },
    {
      "cell_type": "code",
      "execution_count": 1474,
      "metadata": {
        "id": "4oPQ5ZFT3H_Q"
      },
      "outputs": [],
      "source": [
        "depot_to_pd_mapping = get_depot_to_pd_mapping(input_data)\n",
        "pd_to_depot_mapping = reverse_plain_dict_to_dict_of_list(depot_to_pd_mapping)\n",
        "# pd_to_depot_mapping"
      ]
    },
    {
      "cell_type": "markdown",
      "metadata": {
        "id": "iBIzrU8vO5pz"
      },
      "source": [
        "## Plugin View\n",
        "Add Components & Elements to Folium Assignment Map"
      ]
    },
    {
      "cell_type": "code",
      "execution_count": 1475,
      "metadata": {
        "id": "V0J5esj0D4F8"
      },
      "outputs": [],
      "source": [
        "MAX_POPUP_BUBBLE_WIDTH = 300"
      ]
    },
    {
      "cell_type": "code",
      "execution_count": 1476,
      "metadata": {
        "id": "gAdQ5ZDYJRu4"
      },
      "outputs": [],
      "source": [
        "def assignment_elements_settings():\n",
        "    return {\n",
        "        \"icon_settings\": {\n",
        "            \"factory\": {\"color\": \"green\", \"icon\": \"industry\", \"popup_width\": MAX_POPUP_BUBBLE_WIDTH},\n",
        "            \"depot\": {\"color\": \"red\", \"icon\": \"building\", \"popup_width\": MAX_POPUP_BUBBLE_WIDTH},\n",
        "            \"customer\": {\"color\": \"blue\", \"icon\": \"users\", \"popup_width\": MAX_POPUP_BUBBLE_WIDTH}\n",
        "        }, \"line_settings\": {\n",
        "            \"factory_to_depot\": {\"color\": \"green\"},\n",
        "            \"depot_to_customer\": {\"color\": \"red\"},\n",
        "            \"customer_to_depot\": {\"color\": \"red\"},\n",
        "            \"depot_to_factory\": {\"color\": \"green\"}\n",
        "        }\n",
        "    }"
      ]
    },
    {
      "cell_type": "code",
      "execution_count": 1477,
      "metadata": {
        "id": "5vvxiIMCvohc"
      },
      "outputs": [],
      "source": [
        "def folium_map_display_settings(map_center):\n",
        "    return {\n",
        "        \"center\": [map_center[\"lat\"], map_center[\"lng\"]],   # Tượng trưng, sẽ load vào sau\n",
        "        \"zoom\": 10,         # Có thể thay đổi zoom linh động ở đây\n",
        "        \"display_scalebar\": True,\n",
        "        \"tiles\": \"CartoDB Positron\"\n",
        "    }"
      ]
    },
    {
      "cell_type": "code",
      "execution_count": 1478,
      "metadata": {
        "id": "f-gggbQnfcri"
      },
      "outputs": [],
      "source": [
        "def format_product_info(product_info):\n",
        "\n",
        "    \"\"\"\n",
        "    Tạo chuỗi thông điệp tooltip từ danh sách thông tin sản phẩm.\n",
        "\n",
        "    Định dạng thông tin về sản phẩm của mỗi khách hàng để hiển thị trên tooltip.\n",
        "    Mỗi sản phẩm được biểu diễn bởi một dòng, bao gồm mã sản phẩm và yêu cầu sản xuất.\n",
        "\n",
        "    Input:\n",
        "        product_info (list of dicts): Danh sách các sản phẩm. Mỗi sản phẩm là\n",
        "        một dictionary với:\n",
        "            a. product_code (string): Mã sản phẩm.\n",
        "            b. demand (int): Sản lượng theo nhu cầu.\n",
        "\n",
        "    Output:\n",
        "        string: Một chuỗi HTML, với mỗi sản phẩm trên một dòng mới,\n",
        "        dạng '- mã sản phẩm: Demand <số lượng demand>'. Mỗi dòng được ngăn cách\n",
        "        bằng thẻ '<br>' để hiển thị đúng trên tooltip.\n",
        "    \"\"\"\n",
        "\n",
        "    return \"<br>\".join([f\"- {prod['product_code']}: Capacity {prod['capacity']} / Demand {prod['demand']}\" for prod in product_info])\n"
      ]
    },
    {
      "cell_type": "code",
      "execution_count": 1479,
      "metadata": {
        "id": "jxfyw7r-Nmmm"
      },
      "outputs": [],
      "source": [
        "# Toàn bộ các popup content hiện tại cho tượng trưng, sẽ cùng update với Huyền sau"
      ]
    },
    {
      "cell_type": "code",
      "execution_count": 1480,
      "metadata": {
        "id": "yvbR2TwtCgbb"
      },
      "outputs": [],
      "source": [
        "# def create_factory_popup_content(factory_code, factory_info):\n",
        "#     penalty_cost = factory_info[\"factory_penalty_cost\"]\n",
        "#     ib_cost = factory_info[\"IB_cost\"]\n",
        "#     min_supply = factory_info[\"min_supply\"]\n",
        "#     max_supply = factory_info[\"max_supply\"]\n",
        "#     phys_depot_within = factory_info[\"phys_depot_within\"]\n",
        "#     tcos_info = factory_info[\"tcos_info\"]\n",
        "#     tco_depot_code = tcos_info[\"TCO_Depot_Code\"]\n",
        "#     handling_in_cost = tcos_info[\"handlingInCost\"]\n",
        "#     handling_out_cost = tcos_info[\"handlingOutCost\"]\n",
        "#     ib_transp_cost =  tcos_info[\"IBtranspCost\"]\n",
        "#     ob_transp_cost =  tcos_info[\"OBtranspCost\"]\n",
        "\n",
        "#     return (\n",
        "#         f\"Factory Code: {factory_code}<br>\"\n",
        "#         f\"Penalty Cost: {penalty_cost}<br>\"\n",
        "#         f\"Inbound Cost: {ib_cost}<br>\"\n",
        "#         f\"Min Supply: {min_supply}<br>\"\n",
        "#         f\"Max Supply: {max_supply}<br>\"\n",
        "#         f\"Physical Depot Within: {phys_depot_within}<br>\"\n",
        "#         f\"TCO(s) Depot: {tco_depot_code}<br>\"\n",
        "#         f\"- handlingInCost: {handling_in_cost}<br>\"\n",
        "#         f\"- handlingOutCost: {handling_out_cost}<br>\"\n",
        "#         f\"- IBtranspCost: {ib_transp_cost}<br>\"\n",
        "#         f\"- OBtranspCost: {ob_transp_cost}<br>\"\n",
        "#     )\n",
        "\n",
        "def create_factory_popup_content(factory_code, factory_info):\n",
        "    penalty_cost = factory_info[\"factory_penalty_cost\"]\n",
        "    ib_cost = factory_info[\"IB_cost\"]\n",
        "    min_supply = factory_info[\"min_supply\"]\n",
        "    max_supply = factory_info[\"max_supply\"]\n",
        "    phys_depot_within = factory_info[\"phys_depot_within\"]\n",
        "    tcos_info = factory_info[\"tcos_info\"]\n",
        "\n",
        "    tco_info_str = \"\"\n",
        "    for tco_depot_code, tco in tcos_info.items():\n",
        "        tco_info_str += (\n",
        "            f\"TCO Depot Code: {tco_depot_code}<br>\"\n",
        "            f\"- handlingInCost: {tco['handlingInCost']}<br>\"\n",
        "            f\"- handlingOutCost: {tco['handlingOutCost']}<br>\"\n",
        "            f\"- IBtranspCost: {tco['IBtranspCost']}<br>\"\n",
        "            f\"- OBtranspCost: {tco['OBtranspCost']}<br><br>\"\n",
        "        )\n",
        "\n",
        "    return (\n",
        "        f\"Factory Code: {factory_code}<br>\"\n",
        "        f\"Penalty Cost: {penalty_cost}<br>\"\n",
        "        f\"Inbound Cost: {ib_cost}<br>\"\n",
        "        f\"Min Supply: {min_supply}<br>\"\n",
        "        f\"Max Supply: {max_supply}<br>\"\n",
        "        f\"Physical Depot Within: {phys_depot_within}<br>\"\n",
        "        f\"{tco_info_str}\"\n",
        "    )\n",
        "\n",
        "# # Example call to the function (assuming factory_info is already defined)\n",
        "# factory_code = \"some_factory_code\"\n",
        "# factory_info = {\n",
        "#     \"factory_penalty_cost\": 0,\n",
        "#     \"IB_cost\": 0,\n",
        "#     \"min_supply\": 100,\n",
        "#     \"max_supply\": 200,\n",
        "#     \"phys_depot_within\": \"some_depot\",\n",
        "#     \"tcos_info\": {\n",
        "#         \"TCO1\": {\n",
        "#             \"handlingInCost\": 10,\n",
        "#             \"handlingOutCost\": 20,\n",
        "#             \"IBtranspCost\": 30,\n",
        "#             \"OBtranspCost\": 40\n",
        "#         },\n",
        "#         \"TCO2\": {\n",
        "#             \"handlingInCost\": 15,\n",
        "#             \"handlingOutCost\": 25,\n",
        "#             \"IBtranspCost\": 35,\n",
        "#             \"OBtranspCost\": 45\n",
        "#         }\n",
        "#     }\n",
        "# }\n",
        "# print(create_factory_popup_content(factory_code, factory_info))\n"
      ]
    },
    {
      "cell_type": "code",
      "execution_count": 1481,
      "metadata": {
        "id": "GLSbx_TuCrCU"
      },
      "outputs": [],
      "source": [
        "# def create_phys_depot_popup_content(phys_depot_code, phys_depot_info):\n",
        "#     tcos_info = phys_depot_info[\"tcos_info\"]\n",
        "#     tco_depot_code = tcos_info[\"TCO_depot_code\"]\n",
        "#     handling_in_cost = tcos_info[\"handlingInCost\"]\n",
        "#     handling_out_cost = tcos_info[\"handlingOutCost\"]\n",
        "\n",
        "#     return (\n",
        "#         f\"Physical Depot Code: {phys_depot_code}<br>\"\n",
        "#         f\"TCO(s) Depot: {tco_depot_code}<br>\"\n",
        "#         f\"- handlingInCost: {handling_in_cost}<br>\"\n",
        "#         f\"- handlingOutCost: {handling_out_cost}<br>\"\n",
        "#     )\n",
        "def create_phys_depot_popup_content(phys_depot_code, phys_depot_info):\n",
        "    tcos_info = phys_depot_info[\"tcos_info\"]\n",
        "    tco_depot_code = tcos_info[\"TCO_depot_code\"]\n",
        "    handling_in_cost = tcos_info[\"handlingInCost\"]\n",
        "    handling_out_cost = tcos_info[\"handlingOutCost\"]\n",
        "    ib_transp_cost =  tcos_info[\"IBtranspCost\"]\n",
        "    ob_transp_cost =  tcos_info[\"OBtranspCost\"]\n",
        "\n",
        "    return (\n",
        "        f\"Physical Depot Code: {phys_depot_code}<br>\"\n",
        "        f\"TCO(s) Depot: {tco_depot_code}<br>\"\n",
        "        f\"- handlingInCost: {handling_in_cost}<br>\"\n",
        "        f\"- handlingOutCost: {handling_out_cost}<br>\"\n",
        "        f\"- IBtranspCost: {ib_transp_cost}<br>\"\n",
        "        f\"- OBtranspCost: {ob_transp_cost}<br>\"\n",
        "    )\n"
      ]
    },
    {
      "cell_type": "code",
      "execution_count": 1482,
      "metadata": {
        "id": "7v20HUqoCvjK"
      },
      "outputs": [],
      "source": [
        "def create_customer_popup_content(customer_code, customer_info):\n",
        "    penalty_cost = customer_info[\"customer_penalty_cost\"]\n",
        "    ob_cost = customer_info[\"OB_cost\"]\n",
        "    cus_prod_string = format_product_info(customer_info[\"product_info\"])\n",
        "\n",
        "    return (\n",
        "        f\"Customer Code: {customer_code}<br>\"\n",
        "        f\"Product Info:<br>\"\n",
        "        f\"{cus_prod_string}<br>\"\n",
        "        f\"Penalty Cost: {penalty_cost}<br>\"\n",
        "        f\"Outbound Cost: {ob_cost}<br>\"\n",
        "    )"
      ]
    },
    {
      "cell_type": "code",
      "execution_count": 1483,
      "metadata": {
        "id": "_40BXR42IY7e"
      },
      "outputs": [],
      "source": [
        "def create_line_popup_content(line_info):\n",
        "    start_location = line_info[\"start_location\"]\n",
        "    end_location = line_info[\"end_location\"]\n",
        "    line_product = line_info[\"product_info\"]\n",
        "\n",
        "    # Biến đổi line_product thành chuỗi để hiển thị\n",
        "    product_info_str = \"<br>\".join([f\"{product['productCode']}: {product['capacity']} (Inbound Cost: {product.get('inboundCost', 0)}, Outbound Cost: {product.get('outboundCost', 0)})\" for product in line_product])\n",
        "\n",
        "    return (\n",
        "        f\"Pickup Location Code: {start_location}<br>\"\n",
        "        f\"Delivery Location Code: {end_location}<br>\"\n",
        "        f\"Product Info:<br>{product_info_str}<br>\"\n",
        "    )\n"
      ]
    },
    {
      "cell_type": "code",
      "execution_count": 1484,
      "metadata": {
        "id": "mQAxqwuMPopl"
      },
      "outputs": [],
      "source": [
        "#11/4\n",
        "def create_markers_for_assignment_map(assignment_map_data, icon_settings):\n",
        "    markers_array = []\n",
        "\n",
        "    if \"factories\" in assignment_map_data:\n",
        "        for fac, fac_info in assignment_map_data[\"factories\"].items():\n",
        "            if \"offset_coord\" in fac_info:\n",
        "                fac_marker_info = {}\n",
        "                fac_marker_info[\"color\"] = icon_settings.get(\"factory\", {}).get(\"color\", \"blue\")\n",
        "                fac_marker_info[\"icon\"] = icon_settings.get(\"factory\", {}).get(\"icon\", \"default_factory_icon\")\n",
        "                fac_marker_info[\"fill\"] = True\n",
        "                fac_marker_info[\"radius\"] = 500\n",
        "                fac_marker_info[\"location\"] = [fac_info[\"offset_coord\"].get(\"lat\", 0), fac_info[\"offset_coord\"].get(\"lng\", 0)]\n",
        "                fac_marker_info[\"popup\"] = {\n",
        "                    \"content\": create_factory_popup_content(fac, fac_info),\n",
        "                    \"width\": MAX_POPUP_BUBBLE_WIDTH\n",
        "                }\n",
        "\n",
        "                fac_marker = create_plain_marker_element(fac_marker_info)\n",
        "\n",
        "                markers_array.append(fac_marker)\n",
        "\n",
        "    if \"phys_depots\" in assignment_map_data:\n",
        "        for pd, pd_info in assignment_map_data[\"phys_depots\"].items():\n",
        "            if \"offset_coord\" in pd_info:\n",
        "                pd_marker_info = {}\n",
        "                pd_marker_info[\"color\"] = icon_settings.get(\"depot\", {}).get(\"color\", \"green\")\n",
        "                pd_marker_info[\"icon\"] = icon_settings.get(\"depot\", {}).get(\"icon\", \"default_depot_icon\")\n",
        "                pd_marker_info[\"fill\"] = True\n",
        "                pd_marker_info[\"radius\"] = 500\n",
        "                pd_marker_info[\"location\"] = [pd_info[\"offset_coord\"].get(\"lat\", 0), pd_info[\"offset_coord\"].get(\"lng\", 0)]\n",
        "                pd_marker_info[\"popup\"] = {\n",
        "                    \"content\": create_phys_depot_popup_content(pd, pd_info),\n",
        "                    \"width\": MAX_POPUP_BUBBLE_WIDTH\n",
        "                }\n",
        "\n",
        "                pd_marker = create_plain_marker_element(pd_marker_info)\n",
        "\n",
        "                markers_array.append(pd_marker)\n",
        "\n",
        "    if \"customers\" in assignment_map_data:\n",
        "        for cus, cus_info in assignment_map_data[\"customers\"].items():\n",
        "            if \"offset_coord\" in cus_info:\n",
        "                cus_marker_info = {}\n",
        "                cus_marker_info[\"color\"] = icon_settings.get(\"customer\", {}).get(\"color\", \"red\")\n",
        "                cus_marker_info[\"icon\"] = icon_settings.get(\"customer\", {}).get(\"icon\", \"default_customer_icon\")\n",
        "                cus_marker_info[\"fill\"] = True\n",
        "                cus_marker_info[\"radius\"] = 200\n",
        "                cus_marker_info[\"location\"] = [cus_info[\"offset_coord\"].get(\"lat\", 0), cus_info[\"offset_coord\"].get(\"lng\", 0)]\n",
        "                cus_marker_info[\"popup\"] = {\n",
        "                    \"content\": create_customer_popup_content(cus, cus_info),\n",
        "                    \"width\": MAX_POPUP_BUBBLE_WIDTH\n",
        "                }\n",
        "\n",
        "                cus_marker = create_plain_marker_element(cus_marker_info)\n",
        "\n",
        "                markers_array.append(cus_marker)\n",
        "\n",
        "    return markers_array\n"
      ]
    },
    {
      "cell_type": "code",
      "execution_count": 1485,
      "metadata": {
        "id": "A_t2YpSPSN5w"
      },
      "outputs": [],
      "source": [
        "# #11/4\n",
        "# def create_lines_for_assignment_map(assignment_map_data, line_settings, selected_locations=None):\n",
        "#     lines_array = []\n",
        "\n",
        "#     if \"mapping_lines\" in assignment_map_data:\n",
        "#         for line in assignment_map_data[\"mapping_lines\"]:\n",
        "#             if \"start_location\" in line and \"end_location\" in line and \"type\" in line \\\n",
        "#                     and \"start_coordinate\" in line and \"end_coordinate\" in line:\n",
        "#                 start_location = line[\"start_location\"]\n",
        "#                 end_location = line[\"end_location\"]\n",
        "\n",
        "#                 # Draw all lines by default\n",
        "#                 draw_line = True\n",
        "\n",
        "#                 # Check if selected locations are provided\n",
        "#                 if selected_locations:\n",
        "#                     # Filter lines based on selected locations\n",
        "#                     if start_location not in selected_locations or end_location not in selected_locations:\n",
        "#                         draw_line = False\n",
        "\n",
        "#                 if draw_line:\n",
        "#                     line_type = line[\"type\"]\n",
        "\n",
        "#                     line_info = {}\n",
        "#                     line_info[\"line_color\"] = line_settings.get(line_type, {}).get(\"color\", \"black\")\n",
        "#                     line_info[\"start\"] = line[\"start_coordinate\"]\n",
        "#                     line_info[\"end\"] = line[\"end_coordinate\"]\n",
        "#                     line_info[\"popup\"] = {\n",
        "#                         \"content\": create_line_popup_content(line),\n",
        "#                         \"width\": MAX_POPUP_BUBBLE_WIDTH\n",
        "#                     }\n",
        "#                     line_info[\"arrow_sides\"] = 3\n",
        "#                     line_info[\"arrow_radius\"] = 5\n",
        "#                     line_info[\"weight\"] = 3\n",
        "\n",
        "#                     polyline = create_arrowed_line_element(line_info)\n",
        "\n",
        "#                     lines_array.append(polyline)\n",
        "\n",
        "#     return lines_array\n",
        "def create_lines_for_assignment_map(assignment_map_data, line_settings, selected_locations=None):\n",
        "    lines_array = []\n",
        "\n",
        "    if \"mapping_lines\" in assignment_map_data:\n",
        "        for line in assignment_map_data[\"mapping_lines\"]:\n",
        "            if \"start_location\" in line and \"end_location\" in line and \"type\" in line \\\n",
        "                    and \"start_coordinate\" in line and \"end_coordinate\" in line:\n",
        "                start_location = line[\"start_location\"]\n",
        "                end_location = line[\"end_location\"]\n",
        "\n",
        "                draw_line = True\n",
        "\n",
        "                if selected_locations:\n",
        "                    if start_location not in selected_locations or end_location not in selected_locations:\n",
        "                        draw_line = False\n",
        "\n",
        "                if draw_line:\n",
        "                    line_type = line[\"type\"]\n",
        "\n",
        "                    # Lấy màu từ line_settings, mặc định là đen nếu không được xác định\n",
        "                    line_color = line_settings.get(line_type, {}).get(\"color\", \"black\")\n",
        "\n",
        "                    line_info = {\n",
        "                        \"line_color\": line_color,\n",
        "                        \"start\": line[\"start_coordinate\"],\n",
        "                        \"end\": line[\"end_coordinate\"],\n",
        "                        \"popup\": {\n",
        "                            \"content\": create_line_popup_content(line),\n",
        "                            \"width\": MAX_POPUP_BUBBLE_WIDTH\n",
        "                        },\n",
        "                        \"arrow_sides\": 3,\n",
        "                        \"arrow_radius\": 5,\n",
        "                        \"weight\": 3\n",
        "                    }\n",
        "\n",
        "                    polyline = create_arrowed_line_element(line_info)\n",
        "\n",
        "                    lines_array.append(polyline)\n",
        "\n",
        "    return lines_array\n"
      ]
    },
    {
      "cell_type": "code",
      "execution_count": 1486,
      "metadata": {
        "id": "OgPXiVTbiZOL"
      },
      "outputs": [],
      "source": [
        "def create_legend_text_to_folium_map(input_data, output_data):\n",
        "    ib_transport = output_data[\"IB_transport\"]\n",
        "    ob_transport = output_data[\"OB_transport\"]\n",
        "    handling_cost = output_data[\"handling_cost\"]\n",
        "    depot_cost = output_data[\"cost_depot\"]\n",
        "    total_cost = output_data[\"cost_all\"]\n",
        "    cus_pen_cost = output_data[\"cost_penalty_customer\"]\n",
        "    fac_pen_cost = output_data[\"cost_penalty_factory\"]\n",
        "    used_depots = len(output_data[\"useDepot\"])\n",
        "    total_p_deps = len(input_data[\"physicDepots\"])\n",
        "    total_t_deps = len(output_data[\"depots\"])\n",
        "\n",
        "    # Create the legend HTML for the Folium Map\n",
        "    legend_html = f'''\n",
        "    <div style=\"position: fixed;\n",
        "        bottom: 20px; right: 20px; width: 250px; height: 250px;\n",
        "        border:2px solid grey; z-index:9999; font-size:14px;\n",
        "        background-color:yellow; padding:5px;\">\n",
        "        <strong>Result Summary</strong><br>\n",
        "        IB Transport: {ib_transport}<br>\n",
        "        OB Transport: {ob_transport}<br>\n",
        "        Handling Cost: {handling_cost}<br>\n",
        "        Depot Cost: {depot_cost}<br>\n",
        "        Total Cost: {total_cost}<br>\n",
        "        Factory Penalty Cost: {fac_pen_cost}<br>\n",
        "        Customer Penalty Cost: {cus_pen_cost}<br>\n",
        "        Number of Used (Physical) Depots: {used_depots}<br>\n",
        "        Total Physical Depots: {total_p_deps}<br>\n",
        "        Total TCO Depots: {total_t_deps}<br>\n",
        "    </div>\n",
        "    '''\n",
        "\n",
        "    return legend_html"
      ]
    },
    {
      "cell_type": "code",
      "execution_count": 1487,
      "metadata": {
        "id": "CzFZwqquau1G"
      },
      "outputs": [],
      "source": [
        "def get_visualization_2(map_settings, markers, lines, legend_html):\n",
        "    return generate_folium_assignment_map(map_settings, markers, lines, legend_html)"
      ]
    },
    {
      "cell_type": "markdown",
      "metadata": {
        "id": "pqW8oJPmXUAl"
      },
      "source": [
        "## Plugin Controller\n",
        "Create Folium Assignment Map"
      ]
    },
    {
      "cell_type": "code",
      "execution_count": 1488,
      "metadata": {
        "id": "qECFOsGOXUYt"
      },
      "outputs": [],
      "source": [
        "def create_visualization_2(input_data, output_data, has_line, selected_locations):\n",
        "    # Initialize or update lat_lng_dict with default values if necessary\n",
        "    lat_lng_dict = {}  # Initialize the dictionary\n",
        "    if \"locations\" in input_data and isinstance(input_data[\"locations\"], list):\n",
        "        for phys_depot in input_data[\"locations\"]:\n",
        "            lat_lng_dict[phys_depot[\"locationCode\"]] = {\n",
        "                'lat': phys_depot.get(\"lat\", 0),\n",
        "                'lng': phys_depot.get(\"lng\", 0),\n",
        "                'offset_lat': phys_depot.get(\"lat\", 0),\n",
        "                'offset_lng': phys_depot.get(\"lng\", 0)\n",
        "            }\n",
        "\n",
        "            if \"offset_lat\" not in lat_lng_dict[phys_depot[\"locationCode\"]]:\n",
        "                lat_lng_dict[phys_depot[\"locationCode\"]][\"offset_lat\"] = 0  # or any default value you want\n",
        "            if \"offset_lng\" not in lat_lng_dict[phys_depot[\"locationCode\"]]:\n",
        "                lat_lng_dict[phys_depot[\"locationCode\"]][\"offset_lng\"] = 0  # or any default value you want\n",
        "\n",
        "    # Your existing code follows...\n",
        "    map_center = get_center_of_folium_map(input_data[\"locations\"]) if \"locations\" in input_data else (0, 0) # Default to (0, 0) if no locations\n",
        "    tco_to_physical_mapping = get_depot_to_pd_mapping(input_data)\n",
        "    result_mapping_data = summarize_factory_depot_customer_mapping(tco_to_physical_mapping, output_data[\"depots\"])\n",
        "    assignment_map_data = create_assignment_map_data(input_data, output_data, result_mapping_data, lat_lng_dict)\n",
        "\n",
        "    elements_settings = assignment_elements_settings()\n",
        "    display_settings = folium_map_display_settings(map_center)\n",
        "    legend_html = create_legend_text_to_folium_map(input_data, output_data)\n",
        "    folium_markers = create_markers_for_assignment_map(assignment_map_data, elements_settings[\"icon_settings\"])\n",
        "    folium_lines = create_lines_for_assignment_map(assignment_map_data, elements_settings[\"line_settings\"], selected_locations) if has_line else []\n",
        "    folium_map = get_visualization_2(display_settings, folium_markers, folium_lines, legend_html)\n",
        "\n",
        "    return folium_map\n"
      ]
    },
    {
      "cell_type": "markdown",
      "metadata": {
        "id": "aeFcjF7mf4G4"
      },
      "source": [
        "## Component Helper Functions"
      ]
    },
    {
      "cell_type": "code",
      "execution_count": 1489,
      "metadata": {
        "id": "mCTjAzUHf4bV"
      },
      "outputs": [],
      "source": [
        "def add_markers_to_map(folium_map, markers_array):\n",
        "    for marker in markers_array:\n",
        "        marker.add_to(folium_map)"
      ]
    },
    {
      "cell_type": "code",
      "execution_count": 1490,
      "metadata": {
        "id": "_gRWgwCH6P-3"
      },
      "outputs": [],
      "source": [
        "# Viết code tổng quát nhất có thể, add line & các decorators của line đi kèm\n",
        "def add_lines_to_map(folium_map, lines_array):\n",
        "    for line in lines_array:\n",
        "        for part in line:\n",
        "            line[part].add_to(folium_map)\n",
        "        # line[\"line\"].add_to(folium_map)\n",
        "        # if \"arrow\" in line.keys():\n",
        "        #     line[\"arrow\"].add_to(folium_map)"
      ]
    },
    {
      "cell_type": "code",
      "execution_count": 1491,
      "metadata": {
        "id": "RDtNO8H1_GvU"
      },
      "outputs": [],
      "source": [
        "def add_legend_to_map(folium_map, legend_content):\n",
        "    # Create a template with the legend HTML\n",
        "    template = Template(f\"\"\"\n",
        "        {{% macro html(this, kwargs) %}}\n",
        "        {legend_content}\n",
        "        {{% endmacro %}}\n",
        "    \"\"\")\n",
        "\n",
        "    # Create a macro element to attach the template to the map\n",
        "    macro = MacroElement()\n",
        "    macro._template = template\n",
        "\n",
        "    # Add the macro (and therefore the legend) to the map\n",
        "    folium_map.get_root().add_child(macro)"
      ]
    },
    {
      "cell_type": "markdown",
      "metadata": {
        "id": "u4H5kNn1f7DP"
      },
      "source": [
        "## Component\n",
        "Assignment Map"
      ]
    },
    {
      "cell_type": "code",
      "execution_count": 1492,
      "metadata": {
        "id": "bIGjJNaSf7yW"
      },
      "outputs": [],
      "source": [
        "def generate_folium_assignment_map(map_settings, markers, lines, legend_content):\n",
        "\n",
        "    fmap = folium.Map(location=map_settings[\"center\"], zoom_start=map_settings[\"zoom\"],\n",
        "                      control_scale=map_settings[\"display_scalebar\"])\n",
        "\n",
        "    add_markers_to_map(fmap, markers)\n",
        "\n",
        "    add_lines_to_map(fmap, lines)\n",
        "\n",
        "    add_legend_to_map(fmap, legend_content)\n",
        "\n",
        "    return fmap"
      ]
    },
    {
      "cell_type": "markdown",
      "metadata": {
        "id": "HU1prJYWGzjk"
      },
      "source": [
        "## Elements"
      ]
    },
    {
      "cell_type": "markdown",
      "metadata": {
        "id": "aCnxlLush3mJ"
      },
      "source": [
        "### Element Helper Functions"
      ]
    },
    {
      "cell_type": "code",
      "execution_count": 1493,
      "metadata": {
        "id": "rHRZHQpBiWeZ"
      },
      "outputs": [],
      "source": [
        "# Chỉnh cái này ở constants\n",
        "backward_distance = 4"
      ]
    },
    {
      "cell_type": "code",
      "execution_count": 1494,
      "metadata": {
        "id": "KM2ETk6Th66V"
      },
      "outputs": [],
      "source": [
        "# https://pyproj4.github.io/pyproj/stable/api/geod.html\n",
        "from pyproj import Geod\n",
        "\n",
        "# Initialize Geod\n",
        "geod = Geod(ellps='clrk66')\n",
        "\n",
        "def calculate_azimuth(line_info):\n",
        "    azimuth, _, _ = geod.inv(line_info[\"start\"][1], line_info[\"start\"][0],\n",
        "                             line_info[\"end\"][1], line_info[\"end\"][0])\n",
        "    return azimuth\n",
        "\n",
        "def calculate_new_coord(line_info, azimuth):\n",
        "    new_lng, new_lat, _ = geod.fwd(line_info[\"end\"][1], line_info[\"end\"][0],\n",
        "                                   azimuth + 180, backward_distance)\n",
        "    return new_lng, new_lat"
      ]
    },
    {
      "cell_type": "markdown",
      "metadata": {
        "id": "-ttRsAnrHF_O"
      },
      "source": [
        "### Arrowed Line"
      ]
    },
    {
      "cell_type": "code",
      "execution_count": 1495,
      "metadata": {
        "id": "9370hacAHGTq"
      },
      "outputs": [],
      "source": [
        "def create_arrowed_line_element(line_info):\n",
        "    line_display = {}\n",
        "\n",
        "    popup_bubble = folium.Popup(line_info[\"popup\"][\"content\"],\n",
        "                                max_width=line_info[\"popup\"][\"width\"])\n",
        "\n",
        "    line_display[\"line\"] = folium.PolyLine([line_info[\"start\"], line_info[\"end\"]],\n",
        "                                           color=line_info[\"line_color\"],\n",
        "                                           weight=line_info[\"weight\"],\n",
        "                                           popup=popup_bubble)\n",
        "\n",
        "    azimuth = calculate_azimuth(line_info)\n",
        "\n",
        "    new_lng, new_lat = calculate_new_coord(line_info, azimuth)\n",
        "\n",
        "    line_display[\"arrow\"] = folium.RegularPolygonMarker(\n",
        "        (new_lat, new_lng),\n",
        "        fill_color=line_info[\"line_color\"],\n",
        "        number_of_sides=line_info[\"arrow_sides\"],\n",
        "        radius=line_info[\"arrow_radius\"],\n",
        "        rotation=azimuth-90\n",
        "    )\n",
        "\n",
        "    return line_display"
      ]
    },
    {
      "cell_type": "markdown",
      "metadata": {
        "id": "uNhwERLUG2Yc"
      },
      "source": [
        "### Marker"
      ]
    },
    {
      "cell_type": "code",
      "execution_count": 1496,
      "metadata": {
        "id": "k9kD-VK4cSOM"
      },
      "outputs": [],
      "source": [
        "def create_circle_marker_element(marker_info):\n",
        "\n",
        "    popup_bubble = folium.Popup(marker_info[\"popup\"][\"content\"],\n",
        "                                max_width=marker_info[\"popup\"][\"width\"])\n",
        "\n",
        "    return folium.Circle(\n",
        "        location=marker_info[\"location\"],\n",
        "        color=marker_info[\"color\"],\n",
        "        fill=marker_info[\"fill\"],\n",
        "        fill_color=marker_info[\"color\"],\n",
        "        popup=popup_bubble,\n",
        "        radius=marker_info[\"radius\"]\n",
        "    )"
      ]
    },
    {
      "cell_type": "code",
      "execution_count": 1497,
      "metadata": {
        "id": "xR4O1c3BG0FM"
      },
      "outputs": [],
      "source": [
        "def create_plain_marker_element(marker_info):\n",
        "\n",
        "    popup_bubble = folium.Popup(marker_info[\"popup\"][\"content\"],\n",
        "                            max_width=marker_info[\"popup\"][\"width\"])\n",
        "\n",
        "    return folium.Marker(\n",
        "        location=marker_info[\"location\"],\n",
        "        icon=folium.Icon(color=marker_info[\"color\"], prefix = 'fa', icon=marker_info[\"icon\"]),\n",
        "        popup=popup_bubble\n",
        "    )"
      ]
    },
    {
      "cell_type": "code",
      "execution_count": null,
      "metadata": {
        "id": "K2EoM4vMbVIb"
      },
      "outputs": [],
      "source": []
    },
    {
      "cell_type": "markdown",
      "metadata": {
        "id": "YwKlUPD2cmHa"
      },
      "source": [
        "# Scatter Assigment Map Plugin"
      ]
    },
    {
      "cell_type": "markdown",
      "metadata": {
        "id": "cW4VL9X2cy5I"
      },
      "source": [
        "## Plugin Model\n",
        "Process Data"
      ]
    },
    {
      "cell_type": "code",
      "execution_count": 1498,
      "metadata": {
        "id": "cn8vE3a5dVd7"
      },
      "outputs": [],
      "source": [
        "# get_center_of_folium_map\n",
        "def get_scatter_map_center(locations_data):\n",
        "    return None if not locations_data else {\n",
        "        \"lat\": sum(loc['lat'] for loc in locations_data) / len(locations_data),\n",
        "        \"lng\": sum(loc['lng'] for loc in locations_data) / len(locations_data)\n",
        "    }"
      ]
    },
    {
      "cell_type": "code",
      "execution_count": 1499,
      "metadata": {
        "id": "E1hwAtxjdaUX"
      },
      "outputs": [],
      "source": [
        "#11/4\n",
        "def get_depot_to_pd_mapping_sm(input_data):\n",
        "\n",
        "    tco_to_physical_mapping = {}\n",
        "\n",
        "    if \"matrixConfig\" in input_data and \"mapPhysicDepotWithDepot\" in input_data[\"matrixConfig\"] and \\\n",
        "            \"depots\" in input_data and \"physicDepots\" in input_data:\n",
        "\n",
        "        depot_to_pd_dict = list_of_dicts_to_plain_dict(input_data[\"matrixConfig\"][\"mapPhysicDepotWithDepot\"],\n",
        "                                                       \"typeOfDepotByAdress\", \"typeOfPDByAdress\")\n",
        "\n",
        "        for tco_depot in input_data[\"depots\"]:\n",
        "            tco_address = tco_depot[\"depotDetails\"][\"dType\"][\"typeOfDepotByAdress\"]\n",
        "            for pd_depot in input_data[\"physicDepots\"]:\n",
        "                pd_address = pd_depot[\"physicDepotDetails\"][\"PDType\"][\"typeOfPDByAdress\"]\n",
        "                if depot_to_pd_dict.get(tco_address) == pd_address:\n",
        "                    tco_to_physical_mapping[tco_depot[\"depotCode\"]] = pd_depot[\"depotPhysicCode\"]\n",
        "                    break  # Break the inner loop once a match is found\n",
        "\n",
        "    return tco_to_physical_mapping\n"
      ]
    },
    {
      "cell_type": "code",
      "execution_count": 1500,
      "metadata": {
        "id": "QHsVrV0kdaRm"
      },
      "outputs": [],
      "source": [
        "def summarize_factory_depot_customer_mapping_sm(tco_to_physical_mapping, output_data):\n",
        "    # Initialize dictionaries to store the mappings\n",
        "    factory_to_phy_depot = {}\n",
        "    factory_to_tco_depot = {}\n",
        "    phy_depot_to_customer = {}\n",
        "    tco_depot_to_customer = {}\n",
        "\n",
        "    phy_depot_to_factory = {}\n",
        "    customer_to_phy_depot = {}\n",
        "\n",
        "    if isinstance(output_data, list):\n",
        "        # Mapping depots to factories and customers\n",
        "        for depot in output_data:\n",
        "            if 'depotCode' in depot and 'customers' in depot and 'factories' in depot:\n",
        "                depot_code = depot['depotCode']\n",
        "                pd_code = tco_to_physical_mapping.get(depot_code)\n",
        "                if pd_code is not None:\n",
        "                    # Mapping depot to customers\n",
        "                    customers = [customer.get('customerCode') for customer in depot['customers'] if 'customerCode' in customer]\n",
        "                    tco_depot_to_customer[depot_code] = customers\n",
        "                    phy_depot_to_customer.setdefault(pd_code, []).extend(customers)\n",
        "                    # Mapping factories to depot\n",
        "                    for factory in depot['factories']:\n",
        "                        if 'factoryCode' in factory:\n",
        "                            factory_code = factory['factoryCode']\n",
        "                            # Append the depot code to the respective factory\n",
        "                            factory_to_tco_depot.setdefault(factory_code, []).append(depot_code)\n",
        "                            factory_to_phy_depot.setdefault(factory_code, []).append(pd_code)\n",
        "                            factory_to_phy_depot[factory_code] = list(set(factory_to_phy_depot[factory_code]))\n",
        "\n",
        "        for factory, depots in factory_to_phy_depot.items():\n",
        "            for depot in depots:\n",
        "                if depot not in phy_depot_to_factory:\n",
        "                    phy_depot_to_factory[depot] = [factory]\n",
        "                else:\n",
        "                    phy_depot_to_factory[depot].append(factory)\n",
        "\n",
        "        for depot, customers in phy_depot_to_customer.items():\n",
        "            for customer in customers:\n",
        "                if customer not in customer_to_phy_depot:\n",
        "                    customer_to_phy_depot[customer] = [depot]\n",
        "                else:\n",
        "                    customer_to_phy_depot[customer].append(depot)\n",
        "\n",
        "    return {\n",
        "        'Factory_to_Phy_Depot': factory_to_phy_depot,\n",
        "        'Factory_to_TCO_Depot': factory_to_tco_depot,\n",
        "        'Phy_Depot_to_Customer': phy_depot_to_customer,\n",
        "        'TCO_Depot_to_Customer': tco_depot_to_customer,\n",
        "        'Customer_to_Phy_Depot': customer_to_phy_depot,\n",
        "        'Phy_Depot_to_Factory': phy_depot_to_factory,\n",
        "    }\n"
      ]
    },
    {
      "cell_type": "code",
      "execution_count": 1501,
      "metadata": {
        "id": "k8Ig3APRdaOP"
      },
      "outputs": [],
      "source": [
        "def get_customer_product_capacity_sm(output_data):\n",
        "    customer_product_capacity = {}\n",
        "\n",
        "    for depot in output_data[\"depots\"]:\n",
        "        for customer in depot[\"customers\"]:\n",
        "            customer_code = customer[\"customerCode\"]\n",
        "\n",
        "            # Initialize the dictionary for this customer if it does not exist\n",
        "            if customer_code not in customer_product_capacity:\n",
        "                customer_product_capacity[customer_code] = {}\n",
        "\n",
        "            for product in customer[\"products\"]:\n",
        "                product_code = product[\"productCode\"]\n",
        "                capacity = product[\"capacity\"]\n",
        "\n",
        "                # Sum up the capacities for each product code\n",
        "                if product_code in customer_product_capacity[customer_code]:\n",
        "                    customer_product_capacity[customer_code][product_code] += capacity\n",
        "                else:\n",
        "                    customer_product_capacity[customer_code][product_code] = capacity\n",
        "\n",
        "    return customer_product_capacity"
      ]
    },
    {
      "cell_type": "code",
      "execution_count": 1502,
      "metadata": {
        "id": "7ngaFV2SdaLd"
      },
      "outputs": [],
      "source": [
        "#11/4\n",
        "def create_assignment_map_data_sm(input_data, output_data, mapping_data, lat_lng_dict):\n",
        "    assignment_map_data = {\n",
        "        \"factories\": {},\n",
        "        \"phys_depots\": {},\n",
        "        \"customers\": {},\n",
        "        \"mapping_lines\": []\n",
        "    }\n",
        "\n",
        "    if \"matrixConfig\" in input_data and \"mapPhysicDepotWithFactory\" in input_data[\"matrixConfig\"] \\\n",
        "            and \"factories\" in input_data and \"physicDepots\" in input_data \\\n",
        "            and \"customers\" in input_data:\n",
        "\n",
        "        location_offsets = {}\n",
        "\n",
        "        pd_in_factory = list_of_dicts_to_plain_dict(input_data[\"matrixConfig\"][\"mapPhysicDepotWithFactory\"],\n",
        "                                                    \"typeOfFactoryByAdress\",\n",
        "                                                    \"typeOfPDByAdress\")\n",
        "\n",
        "        depot_to_pd_mapping = get_depot_to_pd_mapping_sm(input_data)\n",
        "\n",
        "        pd_to_depot_mapping = reverse_plain_dict_to_dict_of_list(depot_to_pd_mapping)\n",
        "\n",
        "        cus_prod_capacity = get_customer_product_capacity_sm(output_data)\n",
        "\n",
        "        for factory in input_data[\"factories\"]:\n",
        "            if 'factoryCode' in factory and factory['factoryCode'] in lat_lng_dict:\n",
        "                factory_code = factory[\"factoryCode\"]\n",
        "\n",
        "                lat = lat_lng_dict[factory_code][\"lat\"]\n",
        "                lng = lat_lng_dict[factory_code][\"lng\"]\n",
        "                key = (lat, lng)\n",
        "\n",
        "                location_offsets[key] = location_offsets.get(key, 0) + 1\n",
        "                offset_index = location_offsets[key] - 1\n",
        "\n",
        "                offset_lat, offset_lng = add_offset(lat, lng, offset_index) if offset_index > 0 else (lat, lng)\n",
        "                lat_lng_dict[factory_code][\"offset_lat\"] = offset_lat\n",
        "                lat_lng_dict[factory_code][\"offset_lng\"] = offset_lng\n",
        "\n",
        "                assignment_map_data[\"factories\"][factory_code] = {\n",
        "                    \"original_coord\": {\n",
        "                        \"lat\": lat_lng_dict[factory_code][\"lat\"],\n",
        "                        \"lng\": lat_lng_dict[factory_code][\"lng\"]\n",
        "                    },\n",
        "                    \"offset_coord\": {\n",
        "                        \"lat\": offset_lat,\n",
        "                        \"lng\": offset_lng\n",
        "                    },\n",
        "                    \"factory_penalty_cost\": 0,      # Chi phí tượng trưng\n",
        "                    \"IB_cost\": 0,                   # Chi phí tượng trưng\n",
        "                    \"min_supply\": sum([prod[\"minVolume\"] for prod in factory[\"products\"]]),\n",
        "                    \"max_supply\": sum([prod[\"maxVolume\"] for prod in factory[\"products\"]]),\n",
        "                    \"phys_depot_within\": pd_in_factory.get(factory_code, \"Nothing\"),\n",
        "                    \"tcos_info\": \"Pending TCOs Information\"     # Sẽ thêm chi tiết vào sau\n",
        "                }\n",
        "\n",
        "        for pd in input_data[\"physicDepots\"]:\n",
        "            if 'depotPhysicCode' in pd and pd['depotPhysicCode'] in pd_to_depot_mapping:\n",
        "                pd_code = pd[\"depotPhysicCode\"]\n",
        "\n",
        "                first_depot = pd_to_depot_mapping[pd_code][0]\n",
        "\n",
        "                lat = lat_lng_dict[first_depot][\"lat\"]\n",
        "                lng = lat_lng_dict[first_depot][\"lng\"]\n",
        "                key = (lat, lng)\n",
        "\n",
        "                location_offsets[key] = location_offsets.get(key, 0) + 1\n",
        "                offset_index = location_offsets[key] - 1\n",
        "\n",
        "                offset_lat, offset_lng = add_offset(lat, lng, offset_index) if offset_index > 0 else (lat, lng)\n",
        "                lat_lng_dict[pd_code] = {\n",
        "                    \"lat\": lat,\n",
        "                    \"lng\": lng,\n",
        "                    \"offset_lat\": offset_lat,\n",
        "                    \"offset_lng\": offset_lng\n",
        "                }\n",
        "\n",
        "                assignment_map_data[\"phys_depots\"][pd_code] = {\n",
        "                    \"original_coord\": {\n",
        "                        \"lat\": lat,\n",
        "                        \"lng\": lng\n",
        "                    },\n",
        "                    \"offset_coord\": {\n",
        "                        \"lat\": offset_lat,\n",
        "                        \"lng\": offset_lng\n",
        "                    },\n",
        "                    \"tcos_info\": \"Pending TCOs Information\"\n",
        "                }\n",
        "\n",
        "        for customer in input_data[\"customers\"]:\n",
        "            if 'customerCode' in customer and customer['customerCode'] in lat_lng_dict:\n",
        "                cus_code = customer[\"customerCode\"]\n",
        "                cus_capacity = cus_prod_capacity.get(cus_code, {})\n",
        "\n",
        "                lat = lat_lng_dict[cus_code][\"lat\"]\n",
        "                lng = lat_lng_dict[cus_code][\"lng\"]\n",
        "                key = (lat, lng)\n",
        "\n",
        "                location_offsets[key] = location_offsets.get(key, 0) + 1\n",
        "                offset_index = location_offsets[key] - 1\n",
        "\n",
        "                offset_lat, offset_lng = add_offset(lat, lng, offset_index) if offset_index > 0 else (lat, lng)\n",
        "                lat_lng_dict[cus_code][\"offset_lat\"] = offset_lat\n",
        "                lat_lng_dict[cus_code][\"offset_lng\"] = offset_lng\n",
        "\n",
        "                assignment_map_data[\"customers\"][cus_code] = {\n",
        "                    \"original_coord\": {\n",
        "                        \"lat\": lat_lng_dict[cus_code][\"lat\"],\n",
        "                        \"lng\": lat_lng_dict[cus_code][\"lng\"]\n",
        "                    },\n",
        "                    \"offset_coord\": {\n",
        "                        \"lat\": offset_lat,\n",
        "                        \"lng\": offset_lng\n",
        "                    },\n",
        "                    \"product_info\": [\n",
        "                        {\n",
        "                            \"product_code\": product[\"productCode\"],\n",
        "                            \"capacity\": cus_capacity.get(product[\"productCode\"], 0),\n",
        "                            \"demand\": product.get(\"meanDemand\", 0)\n",
        "                        } for product in customer[\"products\"] if 'productCode' in product\n",
        "                    ],\n",
        "                    \"customer_penalty_cost\": 0,     # Chi phí tượng trưng\n",
        "                    \"OB_cost\": 0,                   # Chi phí tượng trưng\n",
        "                }\n",
        "\n",
        "        for factory in mapping_data[\"Factory_to_Phy_Depot\"].keys():\n",
        "            for phys_depot in mapping_data[\"Factory_to_Phy_Depot\"][factory]:\n",
        "                if factory in lat_lng_dict and phys_depot in lat_lng_dict:\n",
        "                    map_line = {\n",
        "                        \"type\": \"factory_to_phy_depot\",\n",
        "                        \"start_location\": factory,\n",
        "                        \"end_location\": phys_depot,\n",
        "                        \"start_coordinate\": (lat_lng_dict[factory][\"offset_lat\"], lat_lng_dict[factory][\"offset_lng\"]),\n",
        "                        \"end_coordinate\": (lat_lng_dict[phys_depot][\"offset_lat\"], lat_lng_dict[phys_depot][\"offset_lng\"]),\n",
        "                        # \"product_info\": \"Pending Product Information\"       # Sẽ thêm chi tiết vào sau\n",
        "                    }\n",
        "                    assignment_map_data[\"mapping_lines\"].append(map_line)\n",
        "\n",
        "        for phys_depot in mapping_data[\"Phy_Depot_to_Customer\"]:\n",
        "            for cus in mapping_data[\"Phy_Depot_to_Customer\"][phys_depot]:\n",
        "                if phys_depot in lat_lng_dict and cus in lat_lng_dict:\n",
        "                    map_line = {\n",
        "                        \"type\": \"phy_depot_to_customer\",\n",
        "                        \"start_location\": phys_depot,\n",
        "                        \"end_location\": cus,\n",
        "                        \"start_coordinate\": (lat_lng_dict[phys_depot][\"offset_lat\"], lat_lng_dict[phys_depot][\"offset_lng\"]),\n",
        "                        \"end_coordinate\": (lat_lng_dict[cus][\"offset_lat\"], lat_lng_dict[cus][\"offset_lng\"]),\n",
        "                        # \"product_info\": \"Pending Product Information\"       # Sẽ thêm chi tiết vào sau\n",
        "                    }\n",
        "                    assignment_map_data[\"mapping_lines\"].append(map_line)\n",
        "\n",
        "        for cus in mapping_data[\"Customer_to_Phy_Depot\"]:  # Iterate over physical depots\n",
        "            for phys_depot in mapping_data[\"Customer_to_Phy_Depot\"][cus]:  # Iterate over customers in each physical depot\n",
        "                if phys_depot in lat_lng_dict and cus in lat_lng_dict:  # Check if both locations have coordinates\n",
        "                    # Create mapping line object\n",
        "                    map_line = {\n",
        "                        \"type\": \"customer_to_phy_depot\",  # Changed type to reflect the direction\n",
        "                        \"start_location\": cus,  # Start from customer\n",
        "                        \"end_location\": phys_depot,  # End at physical depot\n",
        "                        \"start_coordinate\": (lat_lng_dict[cus][\"offset_lat\"], lat_lng_dict[cus][\"offset_lng\"]),\n",
        "                        \"end_coordinate\": (lat_lng_dict[phys_depot][\"offset_lat\"], lat_lng_dict[phys_depot][\"offset_lng\"]),  # Swap coordinates\n",
        "                        # \"product_info\": \"Pending Product Information\"  # Placeholder for product info\n",
        "                    }\n",
        "                    assignment_map_data[\"mapping_lines\"].append(map_line)  # Add mapping line to the list\n",
        "\n",
        "        for phy_depot in mapping_data[\"Phy_Depot_to_Factory\"].keys():  # Iterate over physical depots\n",
        "            for factory in mapping_data[\"Phy_Depot_to_Factory\"][phy_depot]:  # Iterate over factories in each physical depot\n",
        "                if factory in lat_lng_dict and phy_depot in lat_lng_dict:  # Check if both locations have coordinates\n",
        "                    # Create mapping line object\n",
        "                    map_line = {\n",
        "                        \"type\": \"phy_depot_to_factory\",  # Changed type to reflect the direction\n",
        "                        \"start_location\": phy_depot,  # Start from physical depot\n",
        "                        \"end_location\": factory,  # End at factory\n",
        "                        \"start_coordinate\": (lat_lng_dict[phy_depot][\"offset_lat\"], lat_lng_dict[phy_depot][\"offset_lng\"]),\n",
        "                        \"end_coordinate\": (lat_lng_dict[factory][\"offset_lat\"], lat_lng_dict[factory][\"offset_lng\"]),  # Swap coordinates\n",
        "                        # \"product_info\": \"Pending Product Information\"  # Placeholder for product info\n",
        "                    }\n",
        "                    assignment_map_data[\"mapping_lines\"].append(map_line)  # Add mapping line to the list\n",
        "\n",
        "\n",
        "    return assignment_map_data\n"
      ]
    },
    {
      "cell_type": "markdown",
      "metadata": {
        "id": "BaEqAhEjd7rb"
      },
      "source": [
        "## Plugin View"
      ]
    },
    {
      "cell_type": "code",
      "execution_count": 1503,
      "metadata": {
        "id": "Ik1lGoTNdaIb"
      },
      "outputs": [],
      "source": [
        "MAX_POPUP_BUBBLE_WIDTH = 300"
      ]
    },
    {
      "cell_type": "code",
      "execution_count": 1504,
      "metadata": {
        "id": "eAIZ4-lUdaFc"
      },
      "outputs": [],
      "source": [
        "def create_line_popup_content_sm(line_info):\n",
        "    start_location = line_info[\"start_location\"]\n",
        "    end_location = line_info[\"end_location\"]\n",
        "\n",
        "    return (\n",
        "        f\"Pickup Location Code: {start_location}<br>\"\n",
        "        f\"Delivery Location Code: {end_location}<br>\"\n",
        "        f\"Demand:<br>\"\n",
        "        f\"    - SKU-A: Unknown<br>\"\n",
        "        f\"    - SKU-B: Unknown<br>\"\n",
        "    )"
      ]
    },
    {
      "cell_type": "code",
      "execution_count": 1505,
      "metadata": {
        "id": "W3pkgw9RdaCp"
      },
      "outputs": [],
      "source": [
        "backward_distance = 4"
      ]
    },
    {
      "cell_type": "code",
      "execution_count": 1506,
      "metadata": {
        "id": "06LZONvidZ_8"
      },
      "outputs": [],
      "source": [
        "#11/4\n",
        "def create_lines_for_scatter_assignment_map(assignment_map_data, line_settings, selected_locations=None):\n",
        "    lines_array = []\n",
        "\n",
        "    if \"mapping_lines\" in assignment_map_data:\n",
        "        for line in assignment_map_data[\"mapping_lines\"]:\n",
        "            if \"start_location\" in line and \"end_location\" in line and \"type\" in line \\\n",
        "                    and \"start_coordinate\" in line and \"end_coordinate\" in line:\n",
        "                start_location = line[\"start_location\"]\n",
        "                end_location = line[\"end_location\"]\n",
        "\n",
        "                # Draw all lines by default\n",
        "                draw_line = True\n",
        "\n",
        "                # Check if selected locations are provided\n",
        "                if selected_locations:\n",
        "                    # Filter lines based on selected locations\n",
        "                    if start_location not in selected_locations or end_location not in selected_locations:\n",
        "                        draw_line = False\n",
        "\n",
        "                if draw_line:\n",
        "                    line_type = line[\"type\"]\n",
        "\n",
        "                    line_info = {}\n",
        "                    line_info[\"line_color\"] = line_settings.get(line_type, {}).get(\"color\", \"black\")\n",
        "                    line_info[\"start\"] = line[\"start_coordinate\"]\n",
        "                    line_info[\"end\"] = line[\"end_coordinate\"]\n",
        "                    line_info[\"popup\"] = {\n",
        "                        \"content\": create_line_popup_content_sm(line),\n",
        "                        \"width\": MAX_POPUP_BUBBLE_WIDTH\n",
        "                    }\n",
        "                    line_info[\"arrow_sides\"] = 3\n",
        "                    line_info[\"arrow_radius\"] = 5\n",
        "                    line_info[\"weight\"] = 3\n",
        "\n",
        "                    # polyline = create_arrowed_line_element(line_info)\n",
        "\n",
        "                    # lines_array.append(polyline)\n",
        "\n",
        "    return lines_array\n"
      ]
    },
    {
      "cell_type": "code",
      "execution_count": 1507,
      "metadata": {
        "id": "z2LfUxayxoO1"
      },
      "outputs": [],
      "source": [
        "mapbox_config = {\n",
        "    'accesstoken': 'pk.eyJ1Ijoic29sa2FyYW1tYWFyIiwiYSI6ImNrc2JqdWM4eTA3aXYzMG9kOGd2NTZxdHEifQ.M8vfidWZ-3C7SEI2w4EjLg',\n",
        "    'style': 'mapbox://styles/mapbox/streets-v11',\n",
        "    'zoom': 8,\n",
        "    'center': {'lat': 10.7636, 'lon': 106.6602}  # Tọa độ trung tâm bản đồ\n",
        "}"
      ]
    },
    {
      "cell_type": "code",
      "execution_count": 1508,
      "metadata": {
        "id": "7L9Czzodxud2"
      },
      "outputs": [],
      "source": [
        "def create_fig():\n",
        "    # Initial plot\n",
        "    fig = go.Figure()\n",
        "\n",
        "    # Thêm các smaller traces\n",
        "    for location_type, color in zip(['factories', 'customers', 'phys_depots'], ['green', 'blue', 'red']):\n",
        "        for loc_code, loc_info in assignment_map_data[location_type].items():\n",
        "            fig.add_trace(\n",
        "                go.Scattermapbox(\n",
        "                    lat=[loc_info['offset_coord']['lat']],\n",
        "                    lon=[loc_info['offset_coord']['lng']],\n",
        "                    text=loc_code,\n",
        "                    hoverinfo='text',\n",
        "                    mode='markers',\n",
        "                    marker=dict(size=10, color=color),\n",
        "                    name=location_type.capitalize()  # Capitalize the location type for legend\n",
        "                )\n",
        "            )\n",
        "    fig.update_layout(\n",
        "        title='Interactive Point and Line Visibility',\n",
        "        clickmode='event+select',\n",
        "        hovermode='closest',\n",
        "        mapbox=mapbox_config,\n",
        "        showlegend=False\n",
        "    )\n",
        "    return fig"
      ]
    },
    {
      "cell_type": "markdown",
      "metadata": {
        "id": "sWKHzId_ely7"
      },
      "source": [
        "## Plugin Controller"
      ]
    },
    {
      "cell_type": "code",
      "execution_count": null,
      "metadata": {
        "id": "ZZhSwfzRdZ6Z"
      },
      "outputs": [],
      "source": []
    },
    {
      "cell_type": "code",
      "execution_count": null,
      "metadata": {
        "id": "0BMQjuLEdZ3K"
      },
      "outputs": [],
      "source": []
    },
    {
      "cell_type": "code",
      "execution_count": null,
      "metadata": {
        "id": "pyVXM0l3dZxo"
      },
      "outputs": [],
      "source": []
    },
    {
      "cell_type": "code",
      "execution_count": null,
      "metadata": {
        "id": "xU9X0jhEdZu4"
      },
      "outputs": [],
      "source": []
    },
    {
      "cell_type": "code",
      "execution_count": null,
      "metadata": {
        "id": "8xDyMmDmdZnJ"
      },
      "outputs": [],
      "source": []
    },
    {
      "cell_type": "markdown",
      "metadata": {
        "id": "qgOQS6yEefFw"
      },
      "source": [
        "# Put into Dash App"
      ]
    },
    {
      "cell_type": "markdown",
      "metadata": {
        "id": "TlIvcjFS34C9"
      },
      "source": [
        "### Model dash"
      ]
    },
    {
      "cell_type": "code",
      "execution_count": 1509,
      "metadata": {
        "colab": {
          "base_uri": "https://localhost:8080/"
        },
        "id": "bjP7CEfP1YIK",
        "outputId": "acbf8661-e12b-4702-892a-8c542ba9e456"
      },
      "outputs": [],
      "source": [
        "folium_map = create_visualization_2(input_data, output_data, True, None)\n",
        "# folium_map"
      ]
    },
    {
      "cell_type": "code",
      "execution_count": 1510,
      "metadata": {
        "id": "eAPOSPTeZCl5"
      },
      "outputs": [],
      "source": [
        "lat_lng_dict = list_of_dicts_to_dict_of_dicts(input_data[\"locations\"], \"locationCode\")"
      ]
    },
    {
      "cell_type": "code",
      "execution_count": 1511,
      "metadata": {
        "colab": {
          "base_uri": "https://localhost:8080/"
        },
        "id": "353ucWgtEVCa",
        "outputId": "61526d87-2257-417a-8c70-9cac24af43b5"
      },
      "outputs": [
        {
          "data": {
            "text/plain": [
              "{'lat': 10.330221891817796, 'lng': 106.0770745470339}"
            ]
          },
          "execution_count": 1511,
          "metadata": {},
          "output_type": "execute_result"
        }
      ],
      "source": [
        "map_center = get_center_of_folium_map(input_data[\"locations\"])\n",
        "map_center"
      ]
    },
    {
      "cell_type": "code",
      "execution_count": 1512,
      "metadata": {
        "id": "UZn3zllSElNw"
      },
      "outputs": [],
      "source": [
        "tco_to_physical_mapping = get_depot_to_pd_mapping(input_data)\n",
        "# tco_to_physical_mapping"
      ]
    },
    {
      "cell_type": "code",
      "execution_count": 1513,
      "metadata": {
        "id": "HeayU36wErpi"
      },
      "outputs": [],
      "source": [
        "result_mapping_data = summarize_factory_depot_customer_mapping(tco_to_physical_mapping, output_data[\"depots\"])\n"
      ]
    },
    {
      "cell_type": "code",
      "execution_count": 1514,
      "metadata": {
        "colab": {
          "base_uri": "https://localhost:8080/"
        },
        "id": "DiODrAoE34C-",
        "outputId": "9eca6621-d26f-4227-f5a6-ed841ee4c6f7"
      },
      "outputs": [
        {
          "data": {
            "text/plain": [
              "dict_keys(['Factory_to_Phy_Depot', 'Factory_to_TCO_Depot', 'Phy_Depot_to_Customer', 'TCO_Depot_to_Customer'])"
            ]
          },
          "execution_count": 1514,
          "metadata": {},
          "output_type": "execute_result"
        }
      ],
      "source": [
        "result_mapping_data.keys()"
      ]
    },
    {
      "cell_type": "code",
      "execution_count": 1515,
      "metadata": {
        "colab": {
          "base_uri": "https://localhost:8080/"
        },
        "id": "tH50WFa934C-",
        "outputId": "8a56fd1f-4c61-4bfb-d132-cf74d72eeeef"
      },
      "outputs": [
        {
          "data": {
            "text/plain": [
              "{'061': ['074',\n",
              "  '070',\n",
              "  '075',\n",
              "  'DC165',\n",
              "  'DC146',\n",
              "  'DC061',\n",
              "  'DC160',\n",
              "  'DC150',\n",
              "  'DC162'],\n",
              " '162': ['074',\n",
              "  '070',\n",
              "  '086',\n",
              "  '080A',\n",
              "  '060A',\n",
              "  '064B',\n",
              "  'DC165',\n",
              "  'DC146',\n",
              "  'DCCC',\n",
              "  'DC145',\n",
              "  'DC162'],\n",
              " '165': ['074', 'DC165'],\n",
              " 'CC': ['074',\n",
              "  '070',\n",
              "  '075',\n",
              "  '086',\n",
              "  '080A',\n",
              "  '060A',\n",
              "  '064B',\n",
              "  'DC153',\n",
              "  'DC165',\n",
              "  'DC146',\n",
              "  'DCCC',\n",
              "  'DC163',\n",
              "  'DC145',\n",
              "  'DC160',\n",
              "  'DC150',\n",
              "  'DC162'],\n",
              " '163': ['070', '075', '080A', 'DC153', 'DC163', 'DC160', 'DC150'],\n",
              " '166': ['070', '075', 'DC146', 'DC166', 'DC162'],\n",
              " '153': ['086', 'DC153', 'DC160'],\n",
              " '160': ['080A', 'DC153', 'DC160', 'DC150'],\n",
              " '146': ['060A', 'DC146'],\n",
              " '27': ['DCCC'],\n",
              " '145': ['DC145'],\n",
              " '150': ['DC150']}"
            ]
          },
          "execution_count": 1515,
          "metadata": {},
          "output_type": "execute_result"
        }
      ],
      "source": [
        "result_mapping_data['Factory_to_TCO_Depot']"
      ]
    },
    {
      "cell_type": "code",
      "execution_count": 1516,
      "metadata": {
        "colab": {
          "base_uri": "https://localhost:8080/"
        },
        "id": "xu5GS9J0fEZC",
        "outputId": "45b3121b-40c1-43b8-b698-00781cc19fd6"
      },
      "outputs": [
        {
          "data": {
            "text/plain": [
              "{'061': ['PD-162',\n",
              "  'PD-160',\n",
              "  'PD-146',\n",
              "  'PD-075',\n",
              "  'PD-061',\n",
              "  'PD-150',\n",
              "  'PD-165',\n",
              "  'PD-074',\n",
              "  'PD-070'],\n",
              " '162': ['PD-CC',\n",
              "  'PD-162',\n",
              "  'PD-146',\n",
              "  'PD-064B',\n",
              "  'PD-086',\n",
              "  'PD-060A',\n",
              "  'PD-165',\n",
              "  'PD-074',\n",
              "  'PD-070',\n",
              "  'PD-145',\n",
              "  'PD-080A'],\n",
              " '165': ['PD-165', 'PD-074'],\n",
              " 'CC': ['PD-CC',\n",
              "  'PD-162',\n",
              "  'PD-153',\n",
              "  'PD-160',\n",
              "  'PD-146',\n",
              "  'PD-163',\n",
              "  'PD-064B',\n",
              "  'PD-075',\n",
              "  'PD-086',\n",
              "  'PD-150',\n",
              "  'PD-060A',\n",
              "  'PD-165',\n",
              "  'PD-074',\n",
              "  'PD-070',\n",
              "  'PD-145',\n",
              "  'PD-080A'],\n",
              " '163': ['PD-153',\n",
              "  'PD-160',\n",
              "  'PD-163',\n",
              "  'PD-075',\n",
              "  'PD-150',\n",
              "  'PD-070',\n",
              "  'PD-080A'],\n",
              " '166': ['PD-162', 'PD-146', 'PD-166', 'PD-075', 'PD-070'],\n",
              " '153': ['PD-086', 'PD-153', 'PD-160'],\n",
              " '160': ['PD-080A', 'PD-153', 'PD-160', 'PD-150'],\n",
              " '146': ['PD-060A', 'PD-146'],\n",
              " '27': ['PD-CC'],\n",
              " '145': ['PD-145'],\n",
              " '150': ['PD-150']}"
            ]
          },
          "execution_count": 1516,
          "metadata": {},
          "output_type": "execute_result"
        }
      ],
      "source": [
        "result_mapping_data['Factory_to_Phy_Depot']"
      ]
    },
    {
      "cell_type": "code",
      "execution_count": 1517,
      "metadata": {
        "colab": {
          "base_uri": "https://localhost:8080/"
        },
        "id": "w4Oez0iC34C-",
        "outputId": "5cd0328d-53c3-4ef9-d01e-b312d47be81c"
      },
      "outputs": [
        {
          "data": {
            "text/plain": [
              "{'PD-162': ['061', '162', 'CC', '166'],\n",
              " 'PD-160': ['061', 'CC', '163', '153', '160'],\n",
              " 'PD-146': ['061', '162', 'CC', '166', '146'],\n",
              " 'PD-075': ['061', 'CC', '163', '166'],\n",
              " 'PD-061': ['061'],\n",
              " 'PD-150': ['061', 'CC', '163', '160', '150'],\n",
              " 'PD-165': ['061', '162', '165', 'CC'],\n",
              " 'PD-074': ['061', '162', '165', 'CC'],\n",
              " 'PD-070': ['061', '162', 'CC', '163', '166'],\n",
              " 'PD-CC': ['162', 'CC', '27'],\n",
              " 'PD-064B': ['162', 'CC'],\n",
              " 'PD-086': ['162', 'CC', '153'],\n",
              " 'PD-060A': ['162', 'CC', '146'],\n",
              " 'PD-145': ['162', 'CC', '145'],\n",
              " 'PD-080A': ['162', 'CC', '163', '160'],\n",
              " 'PD-153': ['CC', '163', '153', '160'],\n",
              " 'PD-163': ['CC', '163'],\n",
              " 'PD-166': ['166']}"
            ]
          },
          "execution_count": 1517,
          "metadata": {},
          "output_type": "execute_result"
        }
      ],
      "source": [
        "result_mapping_data['Phy_Depot_to_Factory'] = {}\n",
        "\n",
        "for factory, depots in result_mapping_data['Factory_to_Phy_Depot'].items():\n",
        "    for depot in depots:\n",
        "        if depot not in result_mapping_data['Phy_Depot_to_Factory']:\n",
        "            result_mapping_data['Phy_Depot_to_Factory'][depot] = [factory]\n",
        "        else:\n",
        "            result_mapping_data['Phy_Depot_to_Factory'][depot].append(factory)\n",
        "result_mapping_data['Phy_Depot_to_Factory']"
      ]
    },
    {
      "cell_type": "code",
      "execution_count": 1518,
      "metadata": {
        "id": "SQXwBdlx34C_"
      },
      "outputs": [],
      "source": [
        "# result_mapping_data['Phy_Depot_to_Customer']"
      ]
    },
    {
      "cell_type": "code",
      "execution_count": 1519,
      "metadata": {
        "colab": {
          "base_uri": "https://localhost:8080/"
        },
        "id": "dVlgKmp934C_",
        "outputId": "7bcebe7a-72a7-4e72-da48-a70de88c2297"
      },
      "outputs": [
        {
          "data": {
            "text/plain": [
              "{'CIZ0100-0778': ['PD-074', 'PD-165', 'PD-CC'],\n",
              " 'CIZ1905-0004': ['PD-074', 'PD-165', 'PD-061', 'PD-CC', 'PD-162'],\n",
              " 'CIZ1905-0005': ['PD-074', 'PD-CC'],\n",
              " 'CIZ1905-0006': ['PD-074', 'PD-070', 'PD-165', 'PD-061', 'PD-CC'],\n",
              " 'CIZ1905-0009': ['PD-074', 'PD-CC'],\n",
              " 'CIZ1905-0010': ['PD-074', 'PD-153', 'PD-061', 'PD-CC', 'PD-160', 'PD-162'],\n",
              " 'CIZ1905-0012': ['PD-074', 'PD-CC'],\n",
              " 'CIZ1905-0014': ['PD-074', 'PD-153', 'PD-061', 'PD-CC', 'PD-160', 'PD-162'],\n",
              " 'CIZ1905-0016': ['PD-074', 'PD-153', 'PD-061', 'PD-CC', 'PD-160', 'PD-162'],\n",
              " 'CIZ1905-0056': ['PD-074', 'PD-153', 'PD-CC', 'PD-160', 'PD-150', 'PD-162'],\n",
              " 'CIZ1905-0079': ['PD-074', 'PD-153', 'PD-061', 'PD-CC', 'PD-160', 'PD-162'],\n",
              " 'CIZ2001-0001': ['PD-074', 'PD-153', 'PD-CC', 'PD-163', 'PD-160'],\n",
              " 'CIZ2001-0120': ['PD-074', 'PD-153', 'PD-CC', 'PD-163'],\n",
              " 'CIZ2001-0121': ['PD-074', 'PD-153', 'PD-CC', 'PD-163'],\n",
              " 'CIZ2001-0122': ['PD-074', 'PD-153', 'PD-CC', 'PD-163', 'PD-160'],\n",
              " 'CIZ2002-0005': ['PD-074', 'PD-061', 'PD-CC', 'PD-160', 'PD-162'],\n",
              " 'CIZ2002-0009': ['PD-074', 'PD-153', 'PD-061', 'PD-CC', 'PD-160', 'PD-162'],\n",
              " 'CIZ2002-0045': ['PD-074', 'PD-061', 'PD-CC', 'PD-160', 'PD-162'],\n",
              " 'CIZ2002-0046': ['PD-074', 'PD-153', 'PD-061', 'PD-CC', 'PD-150', 'PD-162'],\n",
              " 'CIZ2002-0047': ['PD-074', 'PD-153', 'PD-CC', 'PD-163', 'PD-160'],\n",
              " 'CIZ2005-0007': ['PD-074', 'PD-153', 'PD-CC', 'PD-163', 'PD-150'],\n",
              " 'CIZ2005-0131': ['PD-074', 'PD-153', 'PD-CC', 'PD-163'],\n",
              " 'NP': ['PD-074', 'PD-153', 'PD-CC', 'PD-163'],\n",
              " 'CIZ1900-0033': ['PD-070', 'PD-CC', 'PD-145'],\n",
              " 'CIZ1900-0035': ['PD-070', 'PD-CC', 'PD-145', 'PD-162'],\n",
              " 'CIZ1900-0036': ['PD-070', 'PD-061', 'PD-CC', 'PD-162'],\n",
              " 'CIZ1900-1714': ['PD-070', 'PD-061', 'PD-CC', 'PD-162'],\n",
              " 'CIZ1902-0025': ['PD-070', 'PD-061', 'PD-CC', 'PD-145'],\n",
              " 'CIZ1902-0182': ['PD-070', 'PD-165', 'PD-CC', 'PD-162'],\n",
              " 'CIZ1904-0004': ['PD-070', 'PD-075', 'PD-CC'],\n",
              " 'CIZ2003-0004': ['PD-070',\n",
              "  'PD-075',\n",
              "  'PD-080A',\n",
              "  'PD-060A',\n",
              "  'PD-146',\n",
              "  'PD-CC',\n",
              "  'PD-160'],\n",
              " 'CIZ2003-0010': ['PD-070', 'PD-CC'],\n",
              " 'CIZ2003-0011': ['PD-070', 'PD-CC', 'PD-145'],\n",
              " 'CIZ2003-0034': ['PD-070', 'PD-075', 'PD-080A', 'PD-CC', 'PD-163', 'PD-150'],\n",
              " 'CIZ2003-0040': ['PD-070', 'PD-075', 'PD-CC', 'PD-162'],\n",
              " 'CIZ2003-0042': ['PD-070', 'PD-CC', 'PD-163', 'PD-162'],\n",
              " 'CIZ1904-0002': ['PD-075', 'PD-CC'],\n",
              " 'CIZ1904-0005': ['PD-075', 'PD-CC'],\n",
              " 'CIZ1904-0006': ['PD-075', 'PD-CC'],\n",
              " 'CIZ1904-0007': ['PD-075', 'PD-061', 'PD-CC', 'PD-166'],\n",
              " 'CIZ2000-0085': ['PD-075', 'PD-080A', 'PD-CC'],\n",
              " 'CIZ2003-0008': ['PD-075', 'PD-080A', 'PD-060A', 'PD-CC', 'PD-160', 'PD-162'],\n",
              " 'CIZ2003-0032': ['PD-075', 'PD-080A', 'PD-CC', 'PD-150'],\n",
              " 'CIZ1900-0008': ['PD-086', 'PD-CC', 'PD-150', 'PD-162'],\n",
              " 'CIZ2000-0003': ['PD-086', 'PD-061', 'PD-CC', 'PD-150'],\n",
              " 'CIZ2000-0017': ['PD-086', 'PD-061', 'PD-CC', 'PD-160', 'PD-162'],\n",
              " 'CIZ2000-0083': ['PD-086', 'PD-061', 'PD-CC', 'PD-150', 'PD-162'],\n",
              " 'CIZ2005-0004': ['PD-086', 'PD-153', 'PD-CC', 'PD-163', 'PD-160'],\n",
              " 'CIZ2006-0005': ['PD-086', 'PD-CC', 'PD-160'],\n",
              " 'CIZ2006-0009': ['PD-086', 'PD-061', 'PD-CC', 'PD-150', 'PD-162'],\n",
              " 'CIZ2006-0011': ['PD-086', 'PD-061', 'PD-CC', 'PD-150', 'PD-162'],\n",
              " 'QA': ['PD-086', 'PD-CC', 'PD-163', 'PD-160'],\n",
              " 'CIZ2000-0001': ['PD-080A', 'PD-061', 'PD-CC', 'PD-150', 'PD-162'],\n",
              " 'CIZ2000-0004': ['PD-080A', 'PD-CC', 'PD-150'],\n",
              " 'CIZ2000-0009': ['PD-080A', 'PD-CC', 'PD-150'],\n",
              " 'CIZ2000-0051': ['PD-080A', 'PD-CC'],\n",
              " 'CIZ2000-0082': ['PD-080A', 'PD-CC', 'PD-150'],\n",
              " 'CIZ2000-0084': ['PD-080A', 'PD-CC', 'PD-150'],\n",
              " 'CIZ1800-0002': ['PD-060A', 'PD-CC'],\n",
              " 'CIZ1800-0003': ['PD-060A', 'PD-CC', 'PD-162'],\n",
              " 'CIZ1800-0005': ['PD-060A', 'PD-CC'],\n",
              " 'CIZ1800-0014': ['PD-060A', 'PD-CC'],\n",
              " 'CIZ1800-0015': ['PD-060A', 'PD-CC'],\n",
              " 'CIZ1800-0031': ['PD-060A', 'PD-CC', 'PD-150', 'PD-162'],\n",
              " 'CIZ1800-0032': ['PD-060A', 'PD-CC'],\n",
              " 'CIZ1800-2035': ['PD-060A', 'PD-CC'],\n",
              " 'CIZ1802-0070': ['PD-060A', 'PD-146', 'PD-CC', 'PD-162'],\n",
              " 'CIZ1803-0055': ['PD-060A', 'PD-146', 'PD-CC'],\n",
              " 'CIZ1804-0039': ['PD-060A', 'PD-CC', 'PD-166'],\n",
              " 'CIZ2000-0021': ['PD-060A', 'PD-CC', 'PD-160', 'PD-162'],\n",
              " 'CIZ1804-0045': ['PD-064B', 'PD-CC'],\n",
              " 'CIZ1804-2101': ['PD-064B', 'PD-CC'],\n",
              " 'CIZ1804-2282': ['PD-064B', 'PD-CC'],\n",
              " 'CIZ1900-1484': ['PD-153', 'PD-CC', 'PD-150', 'PD-162'],\n",
              " 'CIZ1905-0018': ['PD-153', 'PD-061', 'PD-CC', 'PD-160', 'PD-162'],\n",
              " 'CIZ2000-0071': ['PD-153', 'PD-CC', 'PD-160', 'PD-162'],\n",
              " 'CIZ2001-0003': ['PD-153', 'PD-CC', 'PD-163', 'PD-160'],\n",
              " 'CIZ2001-0008': ['PD-153', 'PD-CC', 'PD-163', 'PD-160'],\n",
              " 'CIZ2001-0070': ['PD-153', 'PD-CC', 'PD-163', 'PD-160'],\n",
              " 'CIZ2001-0119': ['PD-153', 'PD-CC', 'PD-163', 'PD-160'],\n",
              " 'CIZ2002-0008': ['PD-153', 'PD-061', 'PD-CC', 'PD-160', 'PD-162'],\n",
              " 'CIZ2002-0033': ['PD-153', 'PD-061', 'PD-CC', 'PD-150', 'PD-162'],\n",
              " 'CIZ2002-0042': ['PD-153', 'PD-061', 'PD-CC', 'PD-145', 'PD-160', 'PD-162'],\n",
              " 'CIZ2002-0043': ['PD-153', 'PD-061', 'PD-CC', 'PD-163', 'PD-150'],\n",
              " 'CIZ2002-0044': ['PD-153', 'PD-061', 'PD-CC', 'PD-160', 'PD-162'],\n",
              " 'CIZ2005-0009': ['PD-153', 'PD-CC'],\n",
              " 'CIZ2005-0082': ['PD-153', 'PD-CC', 'PD-163'],\n",
              " 'CIZ2005-0083': ['PD-153', 'PD-CC'],\n",
              " 'CIZ2006-0006': ['PD-153', 'PD-CC', 'PD-163', 'PD-160'],\n",
              " 'CIZ1800-0026': ['PD-165', 'PD-CC', 'PD-162'],\n",
              " 'CIZ1802-0058': ['PD-165', 'PD-CC', 'PD-162'],\n",
              " 'CIZ1802-0063': ['PD-165', 'PD-CC', 'PD-162'],\n",
              " 'CIZ1802-0064': ['PD-165', 'PD-CC', 'PD-162'],\n",
              " 'CIZ1802-0066': ['PD-165', 'PD-CC', 'PD-162'],\n",
              " 'CIZ1802-0071': ['PD-165', 'PD-CC', 'PD-162'],\n",
              " 'CIZ1803-0019': ['PD-165', 'PD-CC', 'PD-162'],\n",
              " 'CIZ1803-2535': ['PD-165', 'PD-CC', 'PD-145', 'PD-162'],\n",
              " 'CIZ1901-0007': ['PD-165', 'PD-CC'],\n",
              " 'CIZ1902-0006': ['PD-165', 'PD-CC', 'PD-162'],\n",
              " 'CIZ1902-0044': ['PD-165', 'PD-061', 'PD-CC', 'PD-162'],\n",
              " 'CIZ1903-0001': ['PD-165', 'PD-CC', 'PD-162'],\n",
              " 'CIZ1903-0002': ['PD-165', 'PD-061', 'PD-CC', 'PD-162'],\n",
              " 'CIZ1903-0004': ['PD-165', 'PD-061', 'PD-CC', 'PD-162'],\n",
              " 'CIZ1903-0005': ['PD-165', 'PD-061', 'PD-CC', 'PD-162'],\n",
              " 'CIZ1903-0006': ['PD-165', 'PD-CC'],\n",
              " 'CIZ1903-0012': ['PD-165', 'PD-061', 'PD-CC', 'PD-162'],\n",
              " 'CIZ1905-0011': ['PD-165', 'PD-061', 'PD-CC', 'PD-162'],\n",
              " 'CIZ1905-0013': ['PD-165', 'PD-061', 'PD-CC', 'PD-162'],\n",
              " 'CIZ1802-0057': ['PD-146', 'PD-CC', 'PD-162'],\n",
              " 'CIZ1802-0060': ['PD-146', 'PD-CC'],\n",
              " 'CIZ1802-0062': ['PD-146', 'PD-CC', 'PD-162'],\n",
              " 'CIZ1802-0068': ['PD-146', 'PD-CC', 'PD-162'],\n",
              " 'CIZ1802-0100': ['PD-146', 'PD-CC'],\n",
              " 'CIZ1803-0050': ['PD-146', 'PD-CC'],\n",
              " 'CIZ1803-2499': ['PD-146', 'PD-CC', 'PD-162'],\n",
              " 'CIZ1800-0018': ['PD-061', 'PD-CC', 'PD-166', 'PD-162'],\n",
              " 'CIZ1800-066006': ['PD-061', 'PD-CC', 'PD-166', 'PD-162'],\n",
              " 'CIZ1800-2024': ['PD-061', 'PD-CC', 'PD-166', 'PD-162'],\n",
              " 'CIZ1800-2026': ['PD-061', 'PD-CC', 'PD-166', 'PD-162'],\n",
              " 'CIZ1803-0053': ['PD-061', 'PD-CC', 'PD-162'],\n",
              " 'CIZ1803-2022': ['PD-061', 'PD-CC', 'PD-162'],\n",
              " 'CIZ1900-0009': ['PD-061', 'PD-CC', 'PD-162'],\n",
              " 'CIZ1900-0014': ['PD-061', 'PD-CC', 'PD-162'],\n",
              " 'CIZ1900-1483': ['PD-061', 'PD-CC', 'PD-150', 'PD-162'],\n",
              " 'CIZ1901-0011': ['PD-061', 'PD-CC', 'PD-162'],\n",
              " 'CIZ1901-0131': ['PD-061', 'PD-CC', 'PD-162'],\n",
              " 'CIZ1902-0008': ['PD-061', 'PD-CC', 'PD-162'],\n",
              " 'CIZ1902-0010': ['PD-061', 'PD-CC', 'PD-162'],\n",
              " 'CIZ1902-0049': ['PD-061', 'PD-CC', 'PD-162'],\n",
              " 'CIZ2000-0078': ['PD-061', 'PD-CC', 'PD-150', 'PD-162'],\n",
              " 'CIZ1800-0011': ['PD-CC', 'PD-145', 'PD-162'],\n",
              " 'CIZ1800-0013': ['PD-CC', 'PD-145', 'PD-162'],\n",
              " 'CIZ1800-0016': ['PD-CC'],\n",
              " 'CIZ1800-0017': ['PD-CC', 'PD-150', 'PD-162'],\n",
              " 'CIZ1800-2025': ['PD-CC', 'PD-162'],\n",
              " 'CIZ1801-0025': ['PD-CC', 'PD-162'],\n",
              " 'CIZ1801-0032': ['PD-CC', 'PD-162'],\n",
              " 'CIZ1801-0040': ['PD-CC', 'PD-162'],\n",
              " 'CIZ1801-0043': ['PD-CC', 'PD-162'],\n",
              " 'CIZ1801-0044': ['PD-CC', 'PD-162'],\n",
              " 'CIZ1801-0045': ['PD-CC', 'PD-162'],\n",
              " 'CIZ1801-0047': ['PD-CC', 'PD-162'],\n",
              " 'CIZ1801-0049': ['PD-CC', 'PD-162'],\n",
              " 'CIZ1802-0069': ['PD-CC', 'PD-150', 'PD-162'],\n",
              " 'CIZ1803-0046': ['PD-CC', 'PD-166', 'PD-145', 'PD-162'],\n",
              " 'CIZ1803-2465': ['PD-CC', 'PD-166', 'PD-162'],\n",
              " 'CIZ1803-2608': ['PD-CC', 'PD-162'],\n",
              " 'CIZ1804-0037': ['PD-CC', 'PD-166', 'PD-162'],\n",
              " 'CIZ1804-0043': ['PD-CC', 'PD-166'],\n",
              " 'CIZ1804-0047': ['PD-CC', 'PD-166', 'PD-162'],\n",
              " 'CIZ1804-2026': ['PD-CC', 'PD-162'],\n",
              " 'CIZ1804-2283': ['PD-CC', 'PD-145'],\n",
              " 'CIZ1900-0011': ['PD-CC', 'PD-162'],\n",
              " 'CIZ1900-1023': ['PD-CC', 'PD-162'],\n",
              " 'CIZ1901-0006': ['PD-CC', 'PD-145'],\n",
              " 'CIZ1901-0013': ['PD-CC', 'PD-162'],\n",
              " 'CIZ1901-0185': ['PD-CC', 'PD-145'],\n",
              " 'CIZ1901-0186': ['PD-CC', 'PD-162'],\n",
              " 'CIZ1901-0187': ['PD-CC', 'PD-162'],\n",
              " 'CIZ1901-0188': ['PD-CC', 'PD-162'],\n",
              " 'CIZ1902-0011': ['PD-CC', 'PD-162'],\n",
              " 'CIZ1902-0020': ['PD-CC', 'PD-162'],\n",
              " 'CIZ1902-0501': ['PD-CC', 'PD-162'],\n",
              " 'CIZ1903-0015': ['PD-CC', 'PD-162'],\n",
              " 'CIZ1904-0019': ['PD-CC', 'PD-145', 'PD-162'],\n",
              " 'CIZ2000-0080': ['PD-CC', 'PD-150'],\n",
              " 'CIZ2002-0003': ['PD-CC', 'PD-160'],\n",
              " 'CIZ2004-0012': ['PD-CC', 'PD-163'],\n",
              " 'CIZ2004-0013': ['PD-CC', 'PD-163'],\n",
              " 'CIZ2004-0014': ['PD-CC', 'PD-163'],\n",
              " 'CIZ2004-0016': ['PD-CC', 'PD-163'],\n",
              " 'CIZ2004-0018': ['PD-CC', 'PD-163'],\n",
              " 'CIZ2004-0046': ['PD-CC', 'PD-160', 'PD-162'],\n",
              " 'CIZ2004-0048': ['PD-CC', 'PD-163', 'PD-160'],\n",
              " 'CIZ2004-0050': ['PD-CC', 'PD-160', 'PD-162'],\n",
              " 'CIZ2004-0054': ['PD-CC', 'PD-163'],\n",
              " 'CIZ2004-0055': ['PD-CC', 'PD-163'],\n",
              " 'CIZ2004-0062': ['PD-CC', 'PD-160', 'PD-162'],\n",
              " 'CIZ2004-0063': ['PD-CC', 'PD-160', 'PD-162'],\n",
              " 'CIZ2004-0064': ['PD-CC', 'PD-163'],\n",
              " 'CIZ2004-0066': ['PD-CC', 'PD-163'],\n",
              " 'CIZ2004-0067': ['PD-CC', 'PD-163'],\n",
              " 'CIZ2004-0068': ['PD-CC', 'PD-163', 'PD-162'],\n",
              " 'CIZ2005-0001': ['PD-CC', 'PD-163'],\n",
              " 'CIZ2006-0001': ['PD-CC', 'PD-160', 'PD-162'],\n",
              " 'CIZ2006-0008': ['PD-CC', 'PD-160', 'PD-162'],\n",
              " 'CIZ2006-0010': ['PD-CC'],\n",
              " 'CIZ12004-0069': ['PD-CC', 'PD-163', 'PD-162'],\n",
              " 'PT': ['PD-CC', 'PD-163', 'PD-162']}"
            ]
          },
          "execution_count": 1519,
          "metadata": {},
          "output_type": "execute_result"
        }
      ],
      "source": [
        "result_mapping_data['Customer_to_Phy_Depot'] = {}\n",
        "\n",
        "for depot, customers in result_mapping_data['Phy_Depot_to_Customer'].items():\n",
        "    for customer in customers:\n",
        "        if customer not in result_mapping_data['Customer_to_Phy_Depot']:\n",
        "            result_mapping_data['Customer_to_Phy_Depot'][customer] = [depot]\n",
        "        else:\n",
        "            result_mapping_data['Customer_to_Phy_Depot'][customer].append(depot)\n",
        "result_mapping_data['Customer_to_Phy_Depot']"
      ]
    },
    {
      "cell_type": "code",
      "execution_count": 1520,
      "metadata": {
        "colab": {
          "base_uri": "https://localhost:8080/"
        },
        "id": "jB0fIIKfE7xA",
        "outputId": "f6ff30fc-f47f-4b13-e6f3-06ccd29b4fd6"
      },
      "outputs": [],
      "source": [
        "assignment_map_data = create_assignment_map_data(input_data, output_data, result_mapping_data, lat_lng_dict)\n",
        "# assignment_map_data[\"mapping_lines\"]"
      ]
    },
    {
      "cell_type": "code",
      "execution_count": 1521,
      "metadata": {
        "id": "AI-MtmNFFJaP"
      },
      "outputs": [],
      "source": [
        "elements_settings = assignment_elements_settings()\n",
        "# elements_settings"
      ]
    },
    {
      "cell_type": "code",
      "execution_count": 1522,
      "metadata": {
        "id": "-pnEBIkAFczR"
      },
      "outputs": [],
      "source": [
        "display_settings = folium_map_display_settings(map_center)\n",
        "# display_settings"
      ]
    },
    {
      "cell_type": "code",
      "execution_count": 1523,
      "metadata": {
        "id": "N9ai0D6EFjDg"
      },
      "outputs": [],
      "source": [
        "legend_html = create_legend_text_to_folium_map(input_data, output_data)\n",
        "# legend_html"
      ]
    },
    {
      "cell_type": "code",
      "execution_count": 1524,
      "metadata": {
        "id": "jcfUoHQaFpXo"
      },
      "outputs": [],
      "source": [
        "folium_markers = create_markers_for_assignment_map(assignment_map_data, elements_settings[\"icon_settings\"])\n",
        "# folium_markers"
      ]
    },
    {
      "cell_type": "code",
      "execution_count": 1525,
      "metadata": {
        "id": "r5ufdKj0FtWp"
      },
      "outputs": [],
      "source": [
        "has_line = False\n",
        "folium_lines = create_lines_for_assignment_map(assignment_map_data, elements_settings[\"line_settings\"]) if has_line else []\n",
        "# folium_lines"
      ]
    },
    {
      "cell_type": "code",
      "execution_count": 1526,
      "metadata": {
        "id": "yRKLy64hvIKB"
      },
      "outputs": [],
      "source": [
        "# create_visualization_2(input_data, output_data, has_line)"
      ]
    },
    {
      "cell_type": "code",
      "execution_count": 1527,
      "metadata": {
        "id": "puBn7fZjEFq4"
      },
      "outputs": [],
      "source": [
        "folium_map = get_visualization_2(display_settings, folium_markers, folium_lines, legend_html)\n",
        "# folium_map"
      ]
    },
    {
      "cell_type": "code",
      "execution_count": null,
      "metadata": {
        "id": "surwnz3bLDSi"
      },
      "outputs": [],
      "source": []
    },
    {
      "cell_type": "code",
      "execution_count": 1528,
      "metadata": {
        "id": "Y4KumTAFWs4N"
      },
      "outputs": [],
      "source": [
        "depot_to_pd_mapping = get_depot_to_pd_mapping(input_data)\n",
        "# depot_to_pd_mapping"
      ]
    },
    {
      "cell_type": "code",
      "execution_count": 1529,
      "metadata": {
        "id": "fMkkuNdr34DB"
      },
      "outputs": [],
      "source": [
        "def create_full_customer_options(result_mapping_data):\n",
        "    customer_options = []\n",
        "    for customer in result_mapping_data['Customer_to_Phy_Depot']:\n",
        "        customer_options.append({'label': customer, 'value': customer})\n",
        "    return customer_options\n",
        "\n",
        "# create_full_customer_options(result_mapping_data)"
      ]
    },
    {
      "cell_type": "code",
      "execution_count": 1530,
      "metadata": {
        "id": "NQS219CL34DB"
      },
      "outputs": [],
      "source": [
        "def create_full_depot_options(result_mapping_data):\n",
        "    depot_options = []\n",
        "    for depot in result_mapping_data['TCO_Depot_to_Customer']:\n",
        "        depot_options.append({'label': depot, 'value': depot})\n",
        "    return depot_options\n",
        "\n",
        "# create_full_depot_options(result_mapping_data)"
      ]
    },
    {
      "cell_type": "code",
      "execution_count": 1531,
      "metadata": {
        "id": "s-H6-SkU34DB"
      },
      "outputs": [],
      "source": [
        "def create_full_factory_options(result_mapping_data):\n",
        "    factory_options = []\n",
        "    for factory in result_mapping_data['Factory_to_Phy_Depot']:\n",
        "        factory_options.append({'label': factory, 'value': factory})\n",
        "    return factory_options\n",
        "\n",
        "# create_full_factory_options(result_mapping_data)"
      ]
    },
    {
      "cell_type": "code",
      "execution_count": 1532,
      "metadata": {
        "id": "I2dTX-3pNYCY"
      },
      "outputs": [],
      "source": [
        "def get_owner_and_customer_code(input_data):\n",
        "    owner_mapping = {}\n",
        "\n",
        "    for customer in input_data[\"customers\"]:\n",
        "        owner = customer[\"customerDetails\"][\"cType\"][\"typeOfCustomerByOwner\"]\n",
        "        customer_code = customer[\"customerCode\"]\n",
        "\n",
        "        if owner not in owner_mapping:\n",
        "            owner_mapping[owner] = []\n",
        "\n",
        "        owner_mapping[owner].append(customer_code)\n",
        "\n",
        "    return owner_mapping\n",
        "\n"
      ]
    },
    {
      "cell_type": "code",
      "execution_count": 1533,
      "metadata": {
        "id": "-Ckb-CxjOFlJ"
      },
      "outputs": [],
      "source": [
        "owner_customer_mapping = get_owner_and_customer_code(input_data)\n",
        "# owner_customer_mapping"
      ]
    },
    {
      "cell_type": "code",
      "execution_count": 1534,
      "metadata": {
        "colab": {
          "base_uri": "https://localhost:8080/"
        },
        "id": "38wIvhZcbxo6",
        "outputId": "5f323a36-58bf-4728-db20-9aae3a61e7d2"
      },
      "outputs": [
        {
          "name": "stdout",
          "output_type": "stream",
          "text": [
            "[{'label': 'ST', 'value': 'ST'}, {'label': 'MĐ', 'value': 'MĐ'}, {'label': 'SH', 'value': 'SH'}]\n"
          ]
        }
      ],
      "source": [
        "def create_owner_options(input_data):\n",
        "    owner_customer_mapping = get_owner_and_customer_code(input_data)\n",
        "\n",
        "    owner_options = list(owner_customer_mapping.keys())\n",
        "    return [{'label': owner, 'value': owner} for owner in owner_options]\n",
        "\n",
        "# Sử dụng hàm để tạo options cho owner\n",
        "owner_options = create_owner_options(input_data)\n",
        "print(owner_options)\n"
      ]
    },
    {
      "cell_type": "code",
      "execution_count": 1535,
      "metadata": {
        "id": "MpCAqLlIlPFI"
      },
      "outputs": [],
      "source": [
        "def create_customer_options(owner_customer_mapping, selected_owner):\n",
        "    if selected_owner is None:\n",
        "        return []\n",
        "    customer_codes = owner_customer_mapping.get(selected_owner, [])\n",
        "    options = [{'label': code, 'value': code} for code in customer_codes]\n",
        "    return options"
      ]
    },
    {
      "cell_type": "code",
      "execution_count": 1536,
      "metadata": {
        "id": "8n5eIxtj34DC"
      },
      "outputs": [],
      "source": [
        "customer_codes = owner_customer_mapping.get('SH', [])\n",
        "customer_codes\n",
        "options = [{'label': code, 'value': code} for code in customer_codes]\n",
        "# options"
      ]
    },
    {
      "cell_type": "code",
      "execution_count": 1537,
      "metadata": {
        "id": "N22UnkHo34DC"
      },
      "outputs": [],
      "source": [
        "def create_depot_options(result_mapping_data, selected_customer):\n",
        "    if selected_customer is None:\n",
        "        return []\n",
        "    depot_codes = result_mapping_data['Customer_to_Phy_Depot'].get(selected_customer, [])\n",
        "    options = [{'label': code, 'value': code} for code in depot_codes]\n",
        "    return options"
      ]
    },
    {
      "cell_type": "code",
      "execution_count": 1538,
      "metadata": {
        "colab": {
          "base_uri": "https://localhost:8080/"
        },
        "id": "RGfw9ZWR34DC",
        "outputId": "aafe9336-b0de-43ab-e60c-5fb5d97608b5"
      },
      "outputs": [
        {
          "data": {
            "text/plain": [
              "['PD-153', 'PD-061', 'PD-CC', 'PD-160', 'PD-162']"
            ]
          },
          "execution_count": 1538,
          "metadata": {},
          "output_type": "execute_result"
        }
      ],
      "source": [
        "depot_codes = result_mapping_data['Customer_to_Phy_Depot'].get('CIZ2002-0008', [])\n",
        "depot_codes\n",
        "# options = [{'label': code, 'value': code} for code in depot_codes]\n",
        "# options\n"
      ]
    },
    {
      "cell_type": "code",
      "execution_count": 1539,
      "metadata": {
        "id": "scIsukOb34DC"
      },
      "outputs": [],
      "source": [
        "def create_factory_options(result_mapping_data, selected_depot):\n",
        "    if selected_depot is None:\n",
        "        return []\n",
        "    factory_codes = result_mapping_data['Phy_Depot_to_Factory'].get(selected_depot, [])\n",
        "    options = [{'label': code, 'value': code} for code in factory_codes]\n",
        "    return options"
      ]
    },
    {
      "cell_type": "code",
      "execution_count": 1540,
      "metadata": {
        "colab": {
          "base_uri": "https://localhost:8080/"
        },
        "id": "sIev8uxI34DD",
        "outputId": "fd5021ab-cb09-4cad-f454-1576bbeee4ce"
      },
      "outputs": [
        {
          "data": {
            "text/plain": [
              "[{'label': '061', 'value': '061'},\n",
              " {'label': '162', 'value': '162'},\n",
              " {'label': 'CC', 'value': 'CC'},\n",
              " {'label': '166', 'value': '166'}]"
            ]
          },
          "execution_count": 1540,
          "metadata": {},
          "output_type": "execute_result"
        }
      ],
      "source": [
        "factory_codes = result_mapping_data['Phy_Depot_to_Factory'].get('PD-162', [])\n",
        "options = [{'label': code, 'value': code} for code in factory_codes]\n",
        "options\n"
      ]
    },
    {
      "cell_type": "code",
      "execution_count": 1541,
      "metadata": {
        "id": "2F_2Gvmv34DD"
      },
      "outputs": [],
      "source": [
        "depot_customer_mapping = result_mapping_data['Phy_Depot_to_Customer']\n",
        "def create_depot_options(depot_customer_mapping):\n",
        "    if not depot_customer_mapping:\n",
        "        return []\n",
        "\n",
        "    depot_options = list(depot_customer_mapping.keys())\n",
        "\n",
        "    depot_options = list(set(depot_options))  # Remove duplicates\n",
        "    depot_options = [{'label': depot, 'value': depot} for depot in depot_options]\n",
        "\n",
        "    return depot_options\n",
        "depot_options = create_depot_options(depot_customer_mapping)\n"
      ]
    },
    {
      "cell_type": "code",
      "execution_count": 1542,
      "metadata": {
        "id": "kCzD1PlK34DD"
      },
      "outputs": [],
      "source": [
        "factory_depot_mapping = result_mapping_data['Factory_to_Phy_Depot']\n",
        "def create_factory_options(factory_depot_mapping):\n",
        "    if not factory_depot_mapping:\n",
        "        return []\n",
        "\n",
        "    factory_options = list(factory_depot_mapping.keys())\n",
        "\n",
        "    factory_options = list(set(factory_options))  # Remove duplicates\n",
        "    factory_options = [{'label': factory, 'value': factory} for factory in factory_options]\n",
        "\n",
        "    return factory_options\n",
        "factory_options = create_factory_options(factory_depot_mapping)"
      ]
    },
    {
      "cell_type": "markdown",
      "metadata": {
        "id": "WozyZ4jY34DD"
      },
      "source": [
        "### View Dash"
      ]
    },
    {
      "cell_type": "code",
      "execution_count": 1543,
      "metadata": {
        "id": "3gv7h_vn34DD"
      },
      "outputs": [],
      "source": [
        "app = dash.Dash(__name__)"
      ]
    },
    {
      "cell_type": "code",
      "execution_count": 1544,
      "metadata": {
        "id": "K_L8y-Bc34DD"
      },
      "outputs": [],
      "source": [
        "owner_to_customer = html.Div(id='select-from-owner', children=[\n",
        "        dbc.Row([\n",
        "        dbc.Col(\n",
        "            html.Div([\n",
        "                dcc.Dropdown(\n",
        "                    id='owner-dropdown',\n",
        "                    options=owner_options,\n",
        "                    value=None,\n",
        "                    placeholder=\"Chọn chủ sở hữu\"\n",
        "                ),\n",
        "            ]),\n",
        "            width=3\n",
        "        ),\n",
        "        dbc.Col(\n",
        "            dcc.Dropdown(\n",
        "                id='customer-dropdown-1',\n",
        "                options=[],\n",
        "                clearable=True,\n",
        "                multi=True,\n",
        "                placeholder=\"Chọn khách hàng từ chủ sở hữu\"\n",
        "            ),\n",
        "            width=3\n",
        "        ),\n",
        "        dbc.Col(\n",
        "            dcc.Dropdown(\n",
        "                id='depot-dropdown-1',\n",
        "                options=[],\n",
        "                clearable=True,\n",
        "                multi=True,\n",
        "                placeholder=\"Chọn kho từ khách hàng\"\n",
        "            ),\n",
        "            width=3\n",
        "        ),\n",
        "        dbc.Col(\n",
        "            dcc.Dropdown(\n",
        "                id='factory-dropdown-1',\n",
        "                options=[],\n",
        "                clearable=True,\n",
        "                multi=True,\n",
        "                placeholder=\"Chọn nhà máy từ kho\"\n",
        "            ),\n",
        "            width=3\n",
        "        )\n",
        "    ]),\n",
        "])"
      ]
    },
    {
      "cell_type": "code",
      "execution_count": 1545,
      "metadata": {
        "id": "hWc0nAaa34DE"
      },
      "outputs": [],
      "source": [
        "depot_to_customer_and_factory = html.Div(id = 'select-from-depot', children=[\n",
        "\tdbc.Row([\n",
        "        dbc.Col(\n",
        "            dcc.Dropdown(\n",
        "                id='depot-dropdown-2',\n",
        "                options=depot_options,\n",
        "                value=None,\n",
        "                multi=True,\n",
        "                placeholder=\"Chọn kho\",\n",
        "                style={'width': '100%', 'font-size': '13px', 'background-color': 'primary'}\n",
        "            ),\n",
        "            width=3\n",
        "        ),\n",
        "        dbc.Col(\n",
        "            dcc.Dropdown(\n",
        "                id='customer-dropdown-2',\n",
        "                options=[],\n",
        "                value=None,\n",
        "                multi=True,\n",
        "                placeholder=\"Chọn khách hàng từ kho\",\n",
        "                style={'width': '100%', 'font-size': '13px','background-color': 'primary'}\n",
        "            ),\n",
        "            width=3\n",
        "        ),\n",
        "        dbc.Col(\n",
        "            dcc.Dropdown(\n",
        "                id='factory-dropdown-2',\n",
        "                options=[],\n",
        "                value=None,\n",
        "                multi=True,\n",
        "                placeholder=\"Chọn nhà máy từ kho\",\n",
        "                style={'width': '100%', 'font-size': '13px', 'background-color': 'primary'}\n",
        "            )\n",
        "        )\n",
        "    ])\n",
        "])"
      ]
    },
    {
      "cell_type": "code",
      "execution_count": 1546,
      "metadata": {
        "id": "ggN3JEIS34DE"
      },
      "outputs": [],
      "source": [
        "factory_to_depot = html.Div(id='select-from-factory',children=[\n",
        "\tdbc.Row([\n",
        "        dbc.Col(\n",
        "            dcc.Dropdown(\n",
        "                id='factory-dropdown-3',\n",
        "                options=factory_options,\n",
        "                value=None,\n",
        "                multi=True,\n",
        "                placeholder=\"Chọn nhà máy\",\n",
        "                style={'width': '100%', 'font-size': '13px', 'background-color': 'primary'}\n",
        "            )\n",
        "        ),\n",
        "        dbc.Col(\n",
        "            dcc.Dropdown(\n",
        "                id='depot-dropdown-3',\n",
        "                options=[],\n",
        "                value=None,\n",
        "                multi=True,\n",
        "                placeholder=\"Chọn kho từ nhà máy\",\n",
        "                style={'width': '100%', 'font-size': '13px', 'background-color': 'primary'}\n",
        "            ),\n",
        "            width=3\n",
        "        ),\n",
        "        dbc.Col(\n",
        "            dcc.Dropdown(\n",
        "                id='customer-dropdown-3',\n",
        "                options=[],\n",
        "                value=None,\n",
        "                multi=True,\n",
        "                placeholder=\"Chọn khách hàng từ kho\",\n",
        "                style={'width': '100%', 'font-size': '13px','background-color': 'primary'}\n",
        "            ),\n",
        "            width=3\n",
        "        ),\n",
        "    ])\n",
        "])"
      ]
    },
    {
      "cell_type": "code",
      "execution_count": 1547,
      "metadata": {
        "id": "A_kDLY6VjIY5"
      },
      "outputs": [],
      "source": [
        "# Style for vehicle information display within route containers\n",
        "VEHICLE_CARD_STYLE = {\n",
        "    'padding': '4px 8px',  # Smaller padding to make the card smaller\n",
        "    'background': '#17a2b8',  # Bootstrap-like information color\n",
        "    'color': 'white',\n",
        "    'borderRadius': '1px',\n",
        "    'fontWeight': 'bold',\n",
        "    'textAlign': 'left',  # Align text to the left\n",
        "    'boxShadow': '0px 2px 4px rgba(0, 0, 0, 0.1)',  # Soft shadow for depth\n",
        "    'marginBottom': '1px',  # Reduced margin from the route_container\n",
        "    'marginRight': '1px',\n",
        "    'width': 'fit-content',  # Shrink the width to fit its content\n",
        "    'alignSelf': 'flex-start',  # Align to the left of flex container\n",
        "    'flexShrink': '0', # Prevent the vehicle info from shrinking\n",
        "}\n",
        "\n",
        "# Style for request cards (To drag-n-drop)\n",
        "REQUEST_CARD_STYLE = {\n",
        "    'display': 'inline-flex',  # Make request cards inline elements\n",
        "    'padding': '4px 8px',  # Reduced padding\n",
        "    'margin': '2px',\n",
        "    'borderRadius': '1px',\n",
        "    'border': '1px solid #ccc',\n",
        "    'fontWeight': 'bold',\n",
        "    'textAlign': 'center',\n",
        "    'color': 'white',\n",
        "    # 'background': f'linear-gradient(45deg, #6db1ff, #{np.random.randint(100, 999)})',\n",
        "    # 'color': 'white',\n",
        "    # 'boxShadow': '2px 2px 10px rgba(0,0,0,0.1)',\n",
        "    # 'flex': '0 1 auto',  # Flex property for flexible sizing\n",
        "    # 'cursor': 'grab',  # Indicate that the cards are draggable\n",
        "}\n",
        "\n",
        "ROUTE_CONTAINER_STYLE = {\n",
        "    'display': 'flex',  # Display as flex to align children in a row\n",
        "    'flexDirection': 'row',  # Lay out children in a horizontal row\n",
        "    'overflowX': 'auto',  # Allow horizontal scrolling\n",
        "    'padding': '6px',\n",
        "    'border': '1px dashed #808080',\n",
        "    'borderRadius': '2px',\n",
        "    'marginTop': '1px',\n",
        "    'marginBottom': '6px',\n",
        "    'boxShadow': '0 4px 8px rgba(0,0,0,0.05)',\n",
        "    'alignItems': 'left',  # Center items vertically\n",
        "    # 'background': 'white',\n",
        "    # 'justifyContent': 'flex-start',  # Align items to the start of the container\n",
        "    # 'whiteSpace': 'nowrap',  # Prevent wrapping of items\n",
        "}\n",
        "\n",
        "DRAG_AND_DROP_ZONE_STYLE = {\n",
        "    'padding': '20px',\n",
        "    'border': '2px solid #28a745',  # Changed to a green shade for a more vibrant look\n",
        "    'borderRadius': '12px',\n",
        "    'marginTop': '20px',\n",
        "    'background': '#f9f9f9',  # Light grey background for subtle contrast\n",
        "    'boxShadow': '0 6px 12px rgba(0,0,0,0.1)',  # Deeper shadow for a 3D effect\n",
        "    'display': 'flex',\n",
        "    'flexDirection': 'column',  # Align route containers in a column\n",
        "    'gap': '20px',  # Space between route containers\n",
        "    'overflowY': 'auto',  # Enable vertical scrolling\n",
        "    'maxHeight': '600px',  # Maximum height of the container\n",
        "}\n",
        "\n",
        "VIS_INIT_ROUTES_BUTTON_STYLE = {\n",
        "    'backgroundColor': 'cyan',\n",
        "    'color': 'black',\n",
        "    'border': 'none',\n",
        "    'padding': '10px',\n",
        "    'margin': '10px',\n",
        "    'borderRadius': '5px',\n",
        "    'fontWeight': 'bold',\n",
        "    'fontSize': '16px',\n",
        "    'cursor': 'pointer'\n",
        "}\n",
        "\n",
        "VIS_UPDATED_ROUTES_BUTTON_STYLE = {\n",
        "    'backgroundColor': 'magenta',\n",
        "    'color': 'white',\n",
        "    'border': 'none',\n",
        "    'padding': '10px',\n",
        "    'margin': '10px',\n",
        "    'borderRadius': '5px',\n",
        "    'fontWeight': 'bold',\n",
        "    'fontSize': '16px',\n",
        "    'cursor': 'pointer'\n",
        "}\n",
        "\n",
        "GET_UPDATED_ROUTES_BUTTON_STYLE = {\n",
        "    'backgroundColor': 'red',\n",
        "    'color': 'white',\n",
        "    'border': 'none',\n",
        "    'padding': '10px',\n",
        "    'margin': '10px',\n",
        "    'borderRadius': '5px',\n",
        "    'fontWeight': 'bold',\n",
        "    'fontSize': '16px',\n",
        "    'cursor': 'pointer'\n",
        "}\n",
        "\n",
        "RENDER_VIS_BUTTON_STYLE = {\n",
        "    'backgroundColor': 'orange',\n",
        "    'color': 'white',\n",
        "    'border': 'none',\n",
        "    'padding': '10px',\n",
        "    'margin': '10px',\n",
        "    'borderRadius': '5px',\n",
        "    'fontWeight': 'bold',\n",
        "    'fontSize': '16px',\n",
        "    'cursor': 'pointer'\n",
        "}"
      ]
    },
    {
      "cell_type": "code",
      "execution_count": 1548,
      "metadata": {
        "id": "ujdQn4ZXlQKb"
      },
      "outputs": [],
      "source": [
        "#common_display_const\n",
        "BUTTON_WIDTH = 3\n",
        "TAB_SIDEBAR_WIDTH = 1\n",
        "TAB_MAIN_CONTENT_WIDTH = 11"
      ]
    },
    {
      "cell_type": "code",
      "execution_count": 1549,
      "metadata": {
        "id": "Wi67h0v4uGKz"
      },
      "outputs": [],
      "source": [
        "tab_switches = {\n",
        "    \"Input Visualization\": [\"Folium map\"],\n",
        "    \"Output Visualization\": []\n",
        "}\n",
        "tab_plugins = {\n",
        "    \"Input Visualization\": [\"Folium map\"],\n",
        "    \"Output Visualization\": []\n",
        "}"
      ]
    },
    {
      "cell_type": "code",
      "execution_count": 1550,
      "metadata": {
        "id": "eyLkW0Obh_-b"
      },
      "outputs": [],
      "source": [
        "def create_header():\n",
        "    return dbc.Row(\n",
        "        children=[\n",
        "            html.Div(\n",
        "                [\n",
        "                    html.H1(\"DASHBOARD\")\n",
        "                ],\n",
        "                className='header',\n",
        "            )\n",
        "        ],\n",
        "    )\n",
        "\n",
        "def create_input_upload_button():\n",
        "    return dcc.Upload(\n",
        "        id='upload-input-data',\n",
        "        children=dbc.Button([html.Div(style={'height':'25%', 'width':'25%'}), \"Upload JSON Input Data\"],\n",
        "                            id=\"button-upload-input-data\", color=\"dark\"),\n",
        "        multiple=False  # Allow one file at a time\n",
        "    )\n",
        "\n",
        "def create_output_upload_button():\n",
        "    return dcc.Upload(\n",
        "        id='upload-output-data',\n",
        "        children=dbc.Button([html.Div(style={'height':'25%', 'width':'25%'}), \"Upload JSON Output Data\"],\n",
        "                            id=\"button-upload-output-data\", color=\"dark\"),\n",
        "        multiple=False  # Allow one file at a time\n",
        "    )\n",
        "\n",
        "def create_input_upload_message_box():\n",
        "    return dbc.Row(\n",
        "        dbc.Col(html.Div(id='input-upload-message-box'), width={'size': 6}),\n",
        "        className=\"mb-4\"\n",
        "    )\n",
        "\n",
        "def create_output_upload_message_box():\n",
        "    return dbc.Row(\n",
        "        dbc.Col(html.Div(id='output-upload-message-box'), width={'size': 6}),\n",
        "        className=\"mb-4\"\n",
        "    )\n",
        "\n",
        "def create_validate_io_message_box():\n",
        "    return dbc.Row(\n",
        "        dbc.Col(html.Div(id='validate-io-message-box'), width={'size': 6}),\n",
        "        className=\"mb-4\"\n",
        "    )\n",
        "\n",
        "def create_render_visualization_message_box():\n",
        "    return dbc.Row(\n",
        "        dbc.Col(html.Div(id='render-visualization-message-box'), width={'size': 6}),\n",
        "        className=\"mb-4\"\n",
        "    )\n",
        "\n",
        "\n",
        "def create_tab_content_input_visualization(switches, plugins):\n",
        "    tab_row = [\n",
        "        dbc.Col(switches, width=TAB_SIDEBAR_WIDTH),\n",
        "        dbc.Col(plugins, width=TAB_MAIN_CONTENT_WIDTH)\n",
        "    ]\n",
        "\n",
        "    # return dbc.Row(tab_row)\n",
        "    return dbc.Tab(label=\"Input Visualization\", children=dbc.Row(tab_row))\n",
        "\n",
        "def create_tab_content_output_visualization(switches, plugins):\n",
        "    tab_row = [\n",
        "        dbc.Col(switches, width=TAB_SIDEBAR_WIDTH),\n",
        "        dbc.Col(plugins, width=TAB_MAIN_CONTENT_WIDTH)\n",
        "    ]\n",
        "    return dbc.Tab(label=\"Output Visualization\", children=dbc.Row(tab_row))\n",
        "\n",
        "def create_layout(tab_switches, tab_plugins):\n",
        "    header = create_header()\n",
        "    input_upload_message_box = create_input_upload_message_box()\n",
        "    output_upload_message_box = create_output_upload_message_box()\n",
        "    validate_io_message_box = create_validate_io_message_box()\n",
        "    render_visualization_message_box = create_render_visualization_message_box()\n",
        "\n",
        "    first_row = dbc.Row([\n",
        "        dbc.Col(header, width=8),\n",
        "        # dbc.Col(\n",
        "        #     [dbc.Row(input_upload_message_box, class_name=\"mt-0 mb-0\"),\n",
        "        #         dbc.Row(output_upload_message_box, class_name=\"mt-0 mb-0\"),\n",
        "        #         dbc.Row(validate_io_message_box, class_name=\"mt-0 mb-0\"),\n",
        "        #         dbc.Row(render_visualization_message_box, class_name=\"mt-0 mb-0\")],\n",
        "        #     width=4\n",
        "        # )\n",
        "    ])\n",
        "\n",
        "    # Define Theme Changer\n",
        "    theme_changer = ThemeChangerAIO(aio_id='theme-changer', button_props={\"size\": \"l\", \"color\": \"light\",\n",
        "                                                                            \"style\": {\"background-color\": \"black\"}})\n",
        "\n",
        "    # Define JSON / zip Input & Output Files Upload Button\n",
        "    input_upload_button = create_input_upload_button()\n",
        "    output_upload_button = create_output_upload_button()\n",
        "\n",
        "    # Define Input Visualization Tab\n",
        "    input_vis_tab = create_tab_content_input_visualization(tab_switches[\"Input Visualization\"],\n",
        "                                                                tab_plugins[\"Input Visualization\"])\n",
        "\n",
        "    # Define Output Visualization Tab\n",
        "    output_vis_tab = create_tab_content_output_visualization(tab_switches[\"Output Visualization\"],\n",
        "                                                                    tab_plugins[\"Output Visualization\"])\n",
        "\n",
        "    # Create a combined button row with reduced spacing\n",
        "    combined_button_row = dbc.Row([\n",
        "        # dbc.Col(input_upload_button, width=2),\n",
        "        # dbc.Col(output_upload_button, width=2, className=\"ml-1\"),  # Reduce spacing using ml-1 class\n",
        "        dbc.Col(theme_changer, width=2, className=\"ml-auto\"),  # Align to right using ml-auto class\n",
        "        dbc.Col(html.Link(rel='stylesheet', href=dbc.themes.BOOTSTRAP, id='theme'), width=2)\n",
        "    ])\n",
        "\n",
        "    layout_structure = dbc.Container(fluid=True, children = [\n",
        "        # Header\n",
        "        first_row,\n",
        "\n",
        "        # Theme Changer and Upload Buttons in a single row\n",
        "        combined_button_row,\n",
        "\n",
        "        # # Placeholder for render visualization button\n",
        "        # dbc.Row([dbc.Col(\"\", width=2),\n",
        "        #             dbc.Col(dbc.Button(\"Render Visualization\", id=\"render-vis-button\",\n",
        "        #                             className=\"button-render-vis\",\n",
        "        #                             style=RENDER_VIS_BUTTON_STYLE), width=2)]),\n",
        "\n",
        "        # # Main Tabs\n",
        "        # dbc.Row(dbc.Tabs(id=\"main-tabs\", children=[\n",
        "        #     dbc.Tab(id='input-vis-tab', label=\"Input Visualization\", tab_id=\"tab_input\", children=input_vis_tab, ),\n",
        "        #     dbc.Tab(id='output-vis-tab', label=\"Output Visualization\", tab_id=\"tab_output\",children=output_vis_tab)\n",
        "        # ])),\n",
        "\n",
        "        # # Hidden Data Storages\n",
        "        # dbc.Row(html.Div(id='last-clicked-vis-button'),style={'display': 'none'}),\n",
        "        # dbc.Row(html.Div(id='input-data-storage', style={'display': 'none'})),\n",
        "        # dbc.Row(html.Div(id='output-data-storage', style={'display': 'none'})),\n",
        "        # dbc.Row(html.Div(id='dummy-div', style={'display': 'none'})),\n",
        "        # dbc.Row(dcc.Store(id='json-output-store')),\n",
        "        # dbc.Row(dcc.Store(id='drag-and-drop-data-store')),\n",
        "    ])\n",
        "\n",
        "    return layout_structure\n"
      ]
    },
    {
      "cell_type": "code",
      "execution_count": 1551,
      "metadata": {
        "id": "rWWZ-tx5biB3",
        "scrolled": true
      },
      "outputs": [],
      "source": [
        "app.layout = html.Div([\n",
        "    create_layout(tab_switches, tab_plugins),\n",
        "\n",
        "    # dcc.Tabs(id='tabs',\n",
        "    #         children=[\n",
        "    #             dcc.Tab(label='Folium map', value='folium_map_tab'),\n",
        "    #             dcc.Tab(label='Scatter map', value='scatter_map_tab'),\n",
        "    #             # dcc.Tab(label='Barchart', value='barchart-tab')\n",
        "    #         ], \n",
        "    #         value='folium-map-tabs'),\n",
        "             \n",
        "\n",
        "\thtml.Label('Select Display Group:'),\n",
        "\tdcc.Dropdown(\n",
        "\t\tid='display-selector',\n",
        "\t\toptions=[\n",
        "\t\t\t{'label': 'from_owner', 'value': 'from_owner'},\n",
        "\t\t\t{'label': 'from_depot', 'value': 'from_depot'},\n",
        "\t\t\t{'label': 'from_factory', 'value': 'from_factory'},\n",
        "\t\t],\n",
        "\t\tvalue='From_owner'\n",
        "\t),\n",
        "    owner_to_customer,\n",
        "    depot_to_customer_and_factory,\n",
        "    factory_to_depot,\n",
        "\n",
        "    dcc.RadioItems(\n",
        "        id='radio-items',\n",
        "        options=[\n",
        "            {'label': 'No Line', 'value': False},\n",
        "            {'label': 'Has Lines', 'value': True}\n",
        "        ],\n",
        "        value=False\n",
        "    ),\n",
        "    \n",
        "    html.Div(id='folium-map-container'),\n",
        "\n",
        "    dcc.Graph(id='scatter-map', figure=create_fig()),\n",
        "])\n",
        "\n"
      ]
    },
    {
      "cell_type": "markdown",
      "metadata": {
        "id": "CxDemgGS34DE"
      },
      "source": [
        "### Controller Dash"
      ]
    },
    {
      "cell_type": "code",
      "execution_count": 1552,
      "metadata": {
        "id": "QYDnAYo234DE"
      },
      "outputs": [],
      "source": [
        "def callback_functions_from_owner():\n",
        "\t@app.callback(\n",
        "\t\t[Output('customer-dropdown-1', 'options')],\n",
        "\t\t[Input('owner-dropdown', 'value')]\n",
        "\t)\n",
        "\tdef update_customer_options(selected_owner):\n",
        "\t\tif selected_owner is None:\n",
        "\t\t\treturn [[]]\n",
        "\t\tcustomer_options = create_customer_options(owner_customer_mapping, selected_owner)\n",
        "\n",
        "\t\treturn [customer_options]\n",
        "\t# @app.callback(\n",
        "\t# \tOutput('customer-dropdown-1', 'value'),\n",
        "\t# \tInput('customer-dropdown-1', 'options')\n",
        "\t# )\n",
        "\t# def set_customer_values(options):\n",
        "\t# \treturn [option['value'] for option in options]\n",
        "\n",
        "\t@app.callback(\n",
        "\t\t[Output('depot-dropdown-1', 'options')],\n",
        "\t\t[Input('customer-dropdown-1', 'value')]\n",
        "\t)\n",
        "\tdef update_depot_options(selected_customer):\n",
        "\t\tif selected_customer is None:\n",
        "\t\t\treturn [[]]\n",
        "\n",
        "\t\tdepot_options = []\n",
        "\t\tfor customer_code in selected_customer:\n",
        "\t\t\tif customer_code in result_mapping_data['Customer_to_Phy_Depot']:\n",
        "\t\t\t\tdepots = result_mapping_data['Customer_to_Phy_Depot'][customer_code]\n",
        "\t\t\t\tdepot_options.extend(depots)\n",
        "\n",
        "\t\tdepot_options = list(set(depot_options))  # Remove duplicates\n",
        "\t\tdepot_options = [{'label': depot, 'value': depot} for depot in depot_options]\n",
        "\n",
        "\t\treturn [depot_options]\n",
        "\n",
        "\t@app.callback(\n",
        "\t\tOutput('depot-dropdown-1', 'value'),\n",
        "\t\tInput('depot-dropdown-1', 'options')\n",
        "\t)\n",
        "\tdef set_depot_values(options):\n",
        "\t\treturn [option['value'] for option in options]\n",
        "\n",
        "\t@app.callback(\n",
        "\t\t[Output('factory-dropdown-1', 'options')],\n",
        "\t\t[Input('depot-dropdown-1', 'value')]\n",
        "\t)\n",
        "\tdef update_factory_options(selected_depot):\n",
        "\t\tif selected_depot is None:\n",
        "\t\t\treturn [[]]\n",
        "\n",
        "\t\tfactory_options = []\n",
        "\t\tfor depot_code in selected_depot:\n",
        "\t\t\tif depot_code in result_mapping_data['Phy_Depot_to_Factory']:\n",
        "\t\t\t\tfactories = result_mapping_data['Phy_Depot_to_Factory'][depot_code]\n",
        "\t\t\t\tfactory_options.extend(factories)\n",
        "\n",
        "\t\tfactory_options = list(set(factory_options))  # Remove duplicates\n",
        "\t\tfactory_options = [{'label': factory, 'value': factory} for factory in factory_options]\n",
        "\n",
        "\t\treturn [factory_options]\n",
        "\n",
        "\t@app.callback(\n",
        "\t\tOutput('factory-dropdown-1', 'value'),\n",
        "\t\tInput('factory-dropdown-1', 'options')\n",
        "\t)\n",
        "\tdef set_factory_values(options):\n",
        "\t\treturn [option['value'] for option in options]"
      ]
    },
    {
      "cell_type": "code",
      "execution_count": 1553,
      "metadata": {
        "id": "fJKaJo2K34DF"
      },
      "outputs": [],
      "source": [
        "def callback_functions_from_depot():\n",
        "\t@app.callback(\n",
        "\t\t[Output('customer-dropdown-2', 'options')],\n",
        "\t\t[Input('depot-dropdown-2', 'value')]\n",
        "\t)\n",
        "\tdef update_customer_options(selected_depot):\n",
        "\t\tif selected_depot is None:\n",
        "\t\t\treturn [[]]\n",
        "\n",
        "\t\tcustomer_options = []\n",
        "\t\tfor depot_code in selected_depot:\n",
        "\t\t\tif depot_code in result_mapping_data['Phy_Depot_to_Customer']:\n",
        "\t\t\t\tcustomers = result_mapping_data['Phy_Depot_to_Customer'][depot_code]\n",
        "\t\t\t\tcustomer_options.extend(customers)\n",
        "\n",
        "\t\tcustomer_options = list(set(customer_options))  # Remove duplicates\n",
        "\t\tcustomer_options = [{'label': customer, 'value': customer} for customer in customer_options]\n",
        "\n",
        "\t\treturn [customer_options]\n",
        "\n",
        "\n",
        "\t@app.callback(\n",
        "\t\tOutput('customer-dropdown-2', 'value'),\n",
        "\t\tInput('customer-dropdown-2', 'options')\n",
        "\t)\n",
        "\tdef set_customer_values(options):\n",
        "\t\treturn [option['value'] for option in options]\n",
        "\n",
        "\n",
        "\t@app.callback(\n",
        "\t\t[Output('factory-dropdown-2', 'options')],\n",
        "\t\t[Input('depot-dropdown-2', 'value')]\n",
        "\t)\n",
        "\tdef update_factory_options(selected_depot):\n",
        "\t\tif selected_depot is None:\n",
        "\t\t\treturn [[]]\n",
        "\n",
        "\t\tfactory_options = []\n",
        "\t\tfor depot_code in selected_depot:\n",
        "\t\t\tif depot_code in result_mapping_data['Phy_Depot_to_Factory']:\n",
        "\t\t\t\tfactories = result_mapping_data['Phy_Depot_to_Factory'][depot_code]\n",
        "\t\t\t\tfactory_options.extend(factories)\n",
        "\n",
        "\t\tfactory_options = list(set(factory_options))  # Remove duplicates\n",
        "\t\tfactory_options = [{'label': factory, 'value': factory} for factory in factory_options]\n",
        "\n",
        "\t\treturn [factory_options]\n",
        "\n",
        "\t@app.callback(\n",
        "\t\tOutput('factory-dropdown-2', 'value'),\n",
        "\t\tInput('factory-dropdown-2', 'options')\n",
        "\t)\n",
        "\tdef set_factory_values(options):\n",
        "\t\treturn [option['value'] for option in options]"
      ]
    },
    {
      "cell_type": "code",
      "execution_count": 1554,
      "metadata": {
        "id": "0cugW1Ta34DF"
      },
      "outputs": [],
      "source": [
        "def callback_functions_from_factory():\n",
        "\t@app.callback(\n",
        "\t\t[Output('depot-dropdown-3', 'options')],\n",
        "\t\t[Input('factory-dropdown-3', 'value')]\n",
        "\t)\n",
        "\tdef update_depot_options(selected_factory):\n",
        "\t\tif selected_factory is None:\n",
        "\t\t\treturn [[]]\n",
        "\n",
        "\t\tdepot_options = []\n",
        "\t\tfor factory_code in selected_factory:\n",
        "\t\t\tif factory_code in result_mapping_data['Factory_to_Phy_Depot']:\n",
        "\t\t\t\tfactories = result_mapping_data['Factory_to_Phy_Depot'][factory_code]\n",
        "\t\t\t\tdepot_options.extend(factories)\n",
        "\n",
        "\t\tdepot_options = list(set(depot_options))  # Remove duplicates\n",
        "\t\tdepot_options = [{'label': depot, 'value': depot} for depot in depot_options]\n",
        "\n",
        "\t\treturn [depot_options]\n",
        "\n",
        "\t@app.callback(\n",
        "\t\tOutput('depot-dropdown-3', 'value'),\n",
        "\t\tInput('depot-dropdown-3', 'options')\n",
        "\t)\n",
        "\tdef set_depot_values(options):\n",
        "\t\treturn [option['value'] for option in options]\n",
        "\n",
        "\t@app.callback(\n",
        "\t\tOutput('customer-dropdown-3', 'value'),\n",
        "\t\tInput('customer-dropdown-3', 'options')\n",
        "\t)\n",
        "\tdef set_customer_values(options):\n",
        "\t\treturn [option['value'] for option in options]\n",
        "\n",
        "\n",
        "\t@app.callback(\n",
        "\t\t[Output('customer-dropdown-3', 'options')],\n",
        "\t\t[Input('depot-dropdown-3', 'value')]\n",
        "\t)\n",
        "\tdef update_customer_options(selected_depot):\n",
        "\t\tif selected_depot is None:\n",
        "\t\t\treturn [[]]\n",
        "\n",
        "\t\tcustomer_options = []\n",
        "\t\tfor depot_code in selected_depot:\n",
        "\t\t\tif depot_code in result_mapping_data['Phy_Depot_to_Customer']:\n",
        "\t\t\t\tcustomers = result_mapping_data['Phy_Depot_to_Customer'][depot_code]\n",
        "\t\t\t\tcustomer_options.extend(customers)\n",
        "\n",
        "\t\tcustomer_options = list(set(customer_options))  # Remove duplicates\n",
        "\t\tcustomer_options = [{'label': customer, 'value': customer} for customer in customer_options]\n",
        "\n",
        "\t\treturn [customer_options]\n"
      ]
    },
    {
      "cell_type": "code",
      "execution_count": 1555,
      "metadata": {},
      "outputs": [],
      "source": [
        "# @app.callback(\n",
        "#     Output()\n",
        "# )"
      ]
    },
    {
      "cell_type": "code",
      "execution_count": 1556,
      "metadata": {
        "id": "n6_aypzi34DF"
      },
      "outputs": [],
      "source": [
        "@app.callback(\n",
        "    Output('select-from-owner', 'style'),\n",
        "    Output('select-from-depot', 'style'),\n",
        "    Output('select-from-factory', 'style'),\n",
        "    Input('display-selector', 'value')\n",
        ")\n",
        "def toggle_display(selected_display):\n",
        "    select_from_owner = {'display': 'block'} if selected_display == 'from_owner' else {'display': 'none'}\n",
        "    select_from_depot = {'display': 'block'} if selected_display == 'from_depot' else {'display': 'none'}\n",
        "    select_from_factory = {'display': 'block'} if selected_display == 'from_factory' else {'display': 'none'}\n",
        "\n",
        "    return select_from_owner, select_from_depot, select_from_factory"
      ]
    },
    {
      "cell_type": "code",
      "execution_count": null,
      "metadata": {},
      "outputs": [],
      "source": []
    },
    {
      "cell_type": "code",
      "execution_count": 1557,
      "metadata": {
        "id": "aH-ySqxQ34DF"
      },
      "outputs": [],
      "source": [
        "callback_functions_from_owner()\n",
        "callback_functions_from_depot()\n",
        "callback_functions_from_factory()"
      ]
    },
    {
      "cell_type": "code",
      "execution_count": 1558,
      "metadata": {
        "id": "xoPdprny34DF"
      },
      "outputs": [],
      "source": [
        "def filter_data_by_owner(data, selected_owner):\n",
        "    owner_mapping = get_owner_and_customer_code(data)\n",
        "    if selected_owner in owner_mapping:\n",
        "        selected_customers = owner_mapping[selected_owner]\n",
        "    data['customers'] = [customer for customer in data['customers'] if customer['customerCode'] in selected_customers]\n",
        "    return data\n",
        "\n",
        "def filter_data_by_customer(data, selected_customers):\n",
        "    data['customers'] = [customer for customer in data['customers'] if customer['customerCode'] in selected_customers]\n",
        "    return data\n",
        "\n",
        "def filter_data_by_depot(data, selected_depots):\n",
        "    data['physicDepots'] = [depot for depot in data['physicDepots'] if depot['depotPhysicCode'] in selected_depots]\n",
        "    return data\n",
        "\n",
        "def filter_data_by_factory(data, selected_depots):\n",
        "    data['factories'] = [factory for factory in data['factories'] if factory['factoryCode'] in selected_depots]\n",
        "    return data"
      ]
    },
    {
      "cell_type": "code",
      "execution_count": 1559,
      "metadata": {
        "id": "eN0PMRu-34DG"
      },
      "outputs": [],
      "source": [
        "@app.callback(\n",
        "    Output('folium-map-container', 'children'),\n",
        "    [\n",
        "        # Input('tabs', 'value'),\n",
        "        Input('display-selector', 'value'),\n",
        "        Input('owner-dropdown', 'value'),\n",
        "        Input('customer-dropdown-1', 'value'),\n",
        "        Input('depot-dropdown-1', 'value'),\n",
        "        Input('factory-dropdown-1', 'value'),\n",
        "        Input('depot-dropdown-2', 'value'),\n",
        "        Input('customer-dropdown-2', 'value'),\n",
        "        Input('factory-dropdown-2', 'value'),\n",
        "        Input('factory-dropdown-3', 'value'),\n",
        "        Input('depot-dropdown-3', 'value'),\n",
        "        Input('customer-dropdown-3', 'value'),\n",
        "        Input('radio-items', 'value')\n",
        "    ]\n",
        ")\n",
        "def update_folium_map(\n",
        "    # selected_tab,\n",
        "    selected_display,\n",
        "    selected_owner,\n",
        "    selected_customer_1,\n",
        "    selected_depot_1,\n",
        "    selected_factory_1,\n",
        "    selected_depot_2,\n",
        "    selected_customer_2,\n",
        "    selected_factory_2,\n",
        "    selected_factory_3,\n",
        "    selected_depot_3,\n",
        "    selected_customer_3,\n",
        "    selected_line\n",
        "):\n",
        "    # if selected_tab == 'folium_map_tab':\n",
        "        filtered_data = input_data.copy()\n",
        "        selected_locations = []\n",
        "\n",
        "        if selected_display == 'from_owner':\n",
        "            if selected_owner:\n",
        "                filtered_data = filter_data_by_owner(filtered_data, selected_owner)\n",
        "\n",
        "            if selected_customer_1:\n",
        "                filtered_data = filter_data_by_customer(filtered_data, selected_customer_1)\n",
        "                selected_locations.extend(selected_customer_1)\n",
        "\n",
        "            if selected_depot_1:\n",
        "                filtered_data = filter_data_by_depot(filtered_data, selected_depot_1)\n",
        "                selected_locations.extend(selected_depot_1)\n",
        "\n",
        "            if selected_factory_1:\n",
        "                filtered_data = filter_data_by_factory(filtered_data, selected_factory_1)\n",
        "                selected_locations.extend(selected_factory_1)\n",
        "\n",
        "        elif selected_display == 'from_depot':\n",
        "            if selected_depot_2:\n",
        "                filtered_data = filter_data_by_depot(filtered_data, selected_depot_2)\n",
        "                selected_locations.extend(selected_depot_2)\n",
        "\n",
        "            if selected_customer_2:\n",
        "                filtered_data = filter_data_by_customer(filtered_data, selected_customer_2)\n",
        "                selected_locations.extend(selected_customer_2)\n",
        "\n",
        "            if selected_factory_2:\n",
        "                filtered_data = filter_data_by_factory(filtered_data, selected_factory_2)\n",
        "                selected_locations.extend(selected_factory_2)\n",
        "        else:\n",
        "            if selected_factory_3:\n",
        "                filtered_data = filter_data_by_factory(filtered_data, selected_factory_3)\n",
        "                selected_locations.extend(selected_factory_3)\n",
        "\n",
        "            if selected_depot_3:\n",
        "                filtered_data = filter_data_by_depot(filtered_data, selected_depot_3)\n",
        "                selected_locations.extend(selected_depot_3)\n",
        "\n",
        "            if selected_customer_3:\n",
        "                filtered_data = filter_data_by_customer(filtered_data, selected_customer_3)\n",
        "                selected_locations.extend(selected_customer_3)\n",
        "\n",
        "        if selected_line:\n",
        "            has_line = True\n",
        "        else:\n",
        "            has_line = False\n",
        "\n",
        "        folium_map = create_visualization_2(filtered_data, output_data, has_line, selected_locations)\n",
        "\n",
        "        return html.Iframe(srcDoc=folium_map._repr_html_(), width=\"100%\", height=\"600\")\n"
      ]
    },
    {
      "cell_type": "code",
      "execution_count": 1560,
      "metadata": {
        "id": "GLebFs4m34DG"
      },
      "outputs": [],
      "source": [
        "# Create callback to update plot\n",
        "@app.callback(\n",
        "    Output('scatter-map', 'figure'),\n",
        "    [\n",
        "    # Input('tabs','value'),\n",
        "    Input('scatter-map', 'clickData'),\n",
        "    State('scatter-map', 'figure')]\n",
        ")\n",
        "def update_scatter_map(clickData, figure):\n",
        "    # if selected_tab == 'scatter_map_tab':\n",
        "        fig = go.Figure(data=figure['data'], layout=figure['layout'])\n",
        "\n",
        "        if not clickData:\n",
        "            # Return empty figure if no click data is available\n",
        "            return fig\n",
        "\n",
        "\n",
        "        # Get the clicked location\n",
        "        clicked_location = (clickData['points'][0]['lat'], clickData['points'][0]['lon'])\n",
        "\n",
        "\n",
        "        # Initialize lists to hold Scattermapbox traces\n",
        "        traces = []\n",
        "\n",
        "        # Initialize a list to hold lines for the big trace\n",
        "        big_trace_lines = []\n",
        "\n",
        "        lat_lng_dict = list_of_dicts_to_dict_of_dicts(input_data[\"locations\"], \"locationCode\")\n",
        "        result_mapping_data = summarize_factory_depot_customer_mapping_sm(tco_to_physical_mapping, output_data[\"depots\"])\n",
        "        assignment_map_data = create_assignment_map_data_sm(input_data, output_data, result_mapping_data, lat_lng_dict)\n",
        "        \n",
        "\n",
        "        # Find all lines related to the clicked location and add them to the big trace\n",
        "        for line in assignment_map_data['mapping_lines']:\n",
        "            if line['type'] == 'phy_depot_to_customer' or line['type'] == 'customer_to_phy_depot':\n",
        "                line_color = 'gray'  # Màu xám cho đường nối depot-customer\n",
        "            elif line['type'] == 'phy_depot_to_factory' or line['type'] == 'factory_to_phy_depot':\n",
        "                line_color = 'brown'  # Màu nâu cho đường nối depot-factory\n",
        "\n",
        "            if line['start_coordinate'] == clicked_location:\n",
        "                big_trace_lines.append(\n",
        "                    go.Scattermapbox(\n",
        "                        lat=[line['start_coordinate'][0], line['end_coordinate'][0]],\n",
        "                        lon=[line['start_coordinate'][1], line['end_coordinate'][1]],\n",
        "                        mode='lines',\n",
        "                        line=dict(width=2, color = line_color),\n",
        "                        name=f'Lines from {clicked_location}'\n",
        "                    )\n",
        "                )\n",
        "\n",
        "\n",
        "        # Cập nhật big_trace_lines vào fig\n",
        "        fig.update_traces(\n",
        "            overwrite=True,\n",
        "            visible=True,\n",
        "            showlegend = False\n",
        "        )\n",
        "        # fig.add_traces(traces + big_trace_lines)  # Thêm big_trace_lines vào biểu đồ\n",
        "        fig.add_traces(traces + big_trace_lines)  # Thêm big_trace_lines vào biểu đồ\n",
        "\n",
        "\n",
        "        return fig"
      ]
    },
    {
      "cell_type": "markdown",
      "metadata": {
        "id": "p8-3yXWf34DG"
      },
      "source": [
        "### App"
      ]
    },
    {
      "cell_type": "code",
      "execution_count": null,
      "metadata": {},
      "outputs": [],
      "source": []
    },
    {
      "cell_type": "code",
      "execution_count": null,
      "metadata": {},
      "outputs": [],
      "source": []
    },
    {
      "cell_type": "code",
      "execution_count": 1561,
      "metadata": {
        "colab": {
          "base_uri": "https://localhost:8080/",
          "height": 672
        },
        "id": "3Cs6NCI-34DG",
        "outputId": "4fd1bae5-4a7a-470a-e7ab-401ab19cf5cd"
      },
      "outputs": [
        {
          "data": {
            "text/html": [
              "\n",
              "        <iframe\n",
              "            width=\"100%\"\n",
              "            height=\"650\"\n",
              "            src=\"http://127.0.0.1:3000/\"\n",
              "            frameborder=\"0\"\n",
              "            allowfullscreen\n",
              "            \n",
              "        ></iframe>\n",
              "        "
            ],
            "text/plain": [
              "<IPython.lib.display.IFrame at 0x27cad60f470>"
            ]
          },
          "metadata": {},
          "output_type": "display_data"
        }
      ],
      "source": [
        "if __name__ == '__main__':\n",
        "    app.run_server(port = 3000)"
      ]
    }
  ],
  "metadata": {
    "colab": {
      "provenance": [],
      "toc_visible": true
    },
    "kernelspec": {
      "display_name": "Python 3 (ipykernel)",
      "language": "python",
      "name": "python3"
    },
    "language_info": {
      "codemirror_mode": {
        "name": "ipython",
        "version": 3
      },
      "file_extension": ".py",
      "mimetype": "text/x-python",
      "name": "python",
      "nbconvert_exporter": "python",
      "pygments_lexer": "ipython3",
      "version": "3.12.2"
    }
  },
  "nbformat": 4,
  "nbformat_minor": 0
}
